{
 "cells": [
  {
   "cell_type": "markdown",
   "id": "719e237b",
   "metadata": {},
   "source": [
    "# <div style=\"margin-left:500px\">__<span style=\"color:steelblue;font-size:70px\">Pyt</span><span style=\"color:gold;font-size:70px\">hon</span>__</div>"
   ]
  },
  {
   "cell_type": "markdown",
   "id": "9eac62ed",
   "metadata": {},
   "source": [
    "<div style=\"margin-left:527px\"><img src=\"https://upload.wikimedia.org/wikipedia/commons/c/c3/Python-logo-notext.svg\" alt=\"Python Logo\" width=\"180\" height=\"180\"/></div>"
   ]
  },
  {
   "cell_type": "markdown",
   "id": "800d1e2b",
   "metadata": {},
   "source": [
    "<div style=\"margin-left:562px\"><a href=\"https://docs.python.org/3/py-modindex.html\" target=\"_blank\">\n",
    "  <button>Standard Library</button></div>\n",
    "</a>  <div style=\"margin-left:560px\"><a href=\"https://www.geeksforgeeks.org/python/external-modules-in-python/\" target=\"_blank\">\n",
    "  <button>External Modules</button>\n",
    "</a></div>"
   ]
  },
  {
   "cell_type": "markdown",
   "id": "e56bf29d",
   "metadata": {},
   "source": [
    "---  \n",
    "# <div style=\"margin-left:550px\">__<span style=\"color:steelblue\">Bas</span><span style=\"color:gold\">ics</span>__</div>"
   ]
  },
  {
   "cell_type": "markdown",
   "id": "14f09fcf",
   "metadata": {},
   "source": [
    "> Python is powerful language that is easy to learn and fun to use.  \n",
    "> It is used for web development, data analysis, artificial intelligence, scientific computing, and more.  \n",
    "> This notebook will lay out the basics of Python programming.   "
   ]
  },
  {
   "cell_type": "markdown",
   "id": "c8c3f14b",
   "metadata": {},
   "source": [
    "> Python executes code from top to bottom.  \n",
    "> It uses indentation to define code blocks. So the formatting is important."
   ]
  },
  {
   "cell_type": "markdown",
   "id": "27cb63b4",
   "metadata": {},
   "source": [
    "> Further, in Python coding, everything is either an object or coding syntax (= operators).  \n",
    "> The word 'object' is used to refer to any entity in Python that has a name, a value, and a type.  \n",
    "> The different categories of objects are: variables, functions, classes, modules, etc.  \n",
    "> The name of an object is also called an identifier (which is actually a variable!).   \n",
    "> A variable is created when you assign a value to it. `x = 5`  \n",
    "> Technically, variables are not objects, but rather identifiers = names that point to an object.  "
   ]
  },
  {
   "cell_type": "markdown",
   "id": "22d9cb26",
   "metadata": {},
   "source": [
    "> Functions and classes are objects that variables can point to (= the name of the class/function).  \n",
    "> A function is a block of code that performs a specific task.  \n",
    "> A class is a blueprint for creating objects.  \n",
    "> Functions that are created in a class are called methods and can only be performed on instances of that class.\n",
    "> Variables defined in a class are called attributes and are only assigned to instances of that class.\n",
    "> A module is a file that contains Python code.  \n",
    "> A function has a name, a value (the function itself) and a type.  \n",
    "> A class has a name, a value (the class itself) and a type.  \n",
    "> A module has a name, a value (the module itself) and a type.  \n",
    "> So the term \"object\" is used to refer to all of these entities in Python.  "
   ]
  },
  {
   "cell_type": "markdown",
   "id": "6fec6b07",
   "metadata": {},
   "source": [
    "> A data type is the kind of values an object holds.\n",
    "> The different data types are:\n",
    "> - numbers (integer/float)\n",
    "> - strings \n",
    "> - lists\n",
    "> - tuples\n",
    "> - sets\n",
    "> - dictionaries  \n",
    ">\n",
    "> Objects are instances of these data types.  \n",
    "> Again: For functions and classes, the value they hold is the function or class itself.  \n",
    "> By the way: These data types (e.g. integers) are just classes in Python!"
   ]
  },
  {
   "cell_type": "markdown",
   "id": "fd486e0e",
   "metadata": {},
   "source": [
    "> Operators are keywords that tell the interpreter to perform a particular operation."
   ]
  },
  {
   "cell_type": "code",
   "execution_count": null,
   "id": "54173fe5",
   "metadata": {},
   "outputs": [],
   "source": [
    "# +                arithmetic\n",
    "# ==               comparison\n",
    "# and,or,not       logical/boolean\n",
    "# is               identity\n",
    "# =                assignment"
   ]
  },
  {
   "cell_type": "markdown",
   "id": "948b092b",
   "metadata": {},
   "source": [
    "> They correspond to special methods:"
   ]
  },
  {
   "cell_type": "code",
   "execution_count": null,
   "id": "53fdcb93",
   "metadata": {},
   "outputs": [],
   "source": [
    "a = 3\n",
    "b = 4\n",
    "print(a.__add__(b))\n",
    "print(a.__sub__(b))\n",
    "print(a.__mul__(b))\n",
    "print(a.__eq__(b))"
   ]
  },
  {
   "cell_type": "markdown",
   "id": "285ef602",
   "metadata": {},
   "source": [
    "> Literals are source code notations (= human-readable text) that directly represent a value. In interactive mode, typing a literal by itself evaluates to the corresponding object and shows its value. This way, you can identify them."
   ]
  },
  {
   "cell_type": "code",
   "execution_count": null,
   "id": "9ef01c2c",
   "metadata": {},
   "outputs": [],
   "source": [
    "5"
   ]
  },
  {
   "cell_type": "code",
   "execution_count": null,
   "id": "884ad152",
   "metadata": {},
   "outputs": [],
   "source": [
    "\"hi\""
   ]
  },
  {
   "cell_type": "code",
   "execution_count": null,
   "id": "e7d4e236",
   "metadata": {},
   "outputs": [],
   "source": [
    "[1,2]"
   ]
  },
  {
   "cell_type": "code",
   "execution_count": null,
   "id": "0c14ec46",
   "metadata": {},
   "outputs": [],
   "source": [
    "True"
   ]
  },
  {
   "cell_type": "code",
   "execution_count": null,
   "id": "fd008ea7",
   "metadata": {},
   "outputs": [],
   "source": [
    "None"
   ]
  },
  {
   "cell_type": "markdown",
   "id": "9895f3db",
   "metadata": {},
   "source": [
    "> Source code consists of statements, expressions, and definitions"
   ]
  },
  {
   "cell_type": "code",
   "execution_count": null,
   "id": "c8dc3c39",
   "metadata": {},
   "outputs": [],
   "source": [
    "variable = 5 + 3           # assignment statement\n",
    "5 + 3               # expression\n",
    "def function(z):           # function definition\n",
    "    return z * 2"
   ]
  },
  {
   "cell_type": "markdown",
   "id": "345b0873",
   "metadata": {},
   "source": [
    "> Statements are syntactic forms of code that Python executes. Many (but not all) start with keywords."
   ]
  },
  {
   "cell_type": "code",
   "execution_count": null,
   "id": "13d880f7",
   "metadata": {},
   "outputs": [],
   "source": [
    "# if x > 0:       'if' keyword → if-statement\n",
    "# for i in ...:   'for' keyword → for-statement\n",
    "# def f(): ...    'def' keyword → function definition statement\n",
    "# x = 5           assignment statement (no keyword)"
   ]
  },
  {
   "cell_type": "markdown",
   "id": "ccc6b355",
   "metadata": {},
   "source": [
    "> Definitions are statements that define names in a namespace"
   ]
  },
  {
   "cell_type": "code",
   "execution_count": null,
   "id": "07d419c5",
   "metadata": {},
   "outputs": [],
   "source": [
    "class Class: pass   # class definition\n",
    "import math         # import\n",
    "variable:int = 5    # annoted assignment"
   ]
  },
  {
   "cell_type": "markdown",
   "id": "61d0fc74",
   "metadata": {},
   "source": [
    "> Expressions are fragments of code that produce a value"
   ]
  },
  {
   "cell_type": "code",
   "execution_count": null,
   "id": "d0eedd60",
   "metadata": {},
   "outputs": [],
   "source": [
    "42              # literal expression\n",
    "1 + 2; 4 < 5    # operator expressions\n",
    "function(3)      # call expression"
   ]
  },
  {
   "cell_type": "markdown",
   "id": "eba38107",
   "metadata": {},
   "source": [
    "> Conclusion:"
   ]
  },
  {
   "cell_type": "code",
   "execution_count": null,
   "id": "517d6861",
   "metadata": {},
   "outputs": [],
   "source": [
    "# literals are objects:\n",
    "5, \"hi\", [1,2]\n",
    "\n",
    "variable = 5                                    # x binds to the int object 5\n",
    "\n",
    "type(variable) is int                           # int is a (data) type and also a class object\n",
    "\n",
    "# function, class, method, instantiation\n",
    "def function(): return 1                        # function object\n",
    "class Class:\n",
    "    def method(self): return 2                  # method (function defined in a class)\n",
    "class_instantiation = Class()                   # instantiation (object of type C)\n",
    "class_instantiation.method()                    # calls method with self=c\n",
    "\n",
    "# operator mapping\n",
    "a = 1 + 2                        # calls int.__add__(1, 2)\n",
    "a is variable                    # identity test\n",
    "y = variable                     # '=' binds name y to the same object as x\n",
    "int.__add__(1,2)"
   ]
  },
  {
   "cell_type": "markdown",
   "id": "459c7b5c",
   "metadata": {},
   "source": [
    "---  \n",
    "# <div style=\"margin-left:550px\">__<span style=\"color:mediumslateblue\">**Types**</spna>__</div>"
   ]
  },
  {
   "cell_type": "markdown",
   "id": "9b1f0730",
   "metadata": {},
   "source": [
    " Every object consists of a value and a type.  \n",
    "\n",
    " Values come in different types:\n",
    " + simple types:  \n",
    "   - Numbers (int/float/complex)  \n",
    "   - Strings  \n",
    "   - Booleans  \n",
    " + complex types/collections:  \n",
    "   - Lists  \n",
    "   - Tuples  \n",
    "   - Sets  \n",
    "   - Dictionaries  "
   ]
  },
  {
   "cell_type": "markdown",
   "id": "8d3a85c7",
   "metadata": {},
   "source": [
    "## __Type Annotation__ 🏷️"
   ]
  },
  {
   "cell_type": "markdown",
   "id": "be9ababa",
   "metadata": {},
   "source": [
    "> Type annotation emphazises, which type a variable's value is (→ gives warnings)"
   ]
  },
  {
   "cell_type": "code",
   "execution_count": null,
   "id": "b530b305",
   "metadata": {},
   "outputs": [],
   "source": [
    "name:str = \"Hans\"\n",
    "age:int = 23\n",
    "weight:float = 81.3\n",
    "male:bool = True\n",
    "def function(): pass  # function is an object too"
   ]
  },
  {
   "cell_type": "markdown",
   "id": "2c14b348",
   "metadata": {},
   "source": [
    "> Certain values return `True` or `False` as boolean by default"
   ]
  },
  {
   "cell_type": "code",
   "execution_count": null,
   "id": "402918f1",
   "metadata": {},
   "outputs": [],
   "source": [
    "print(bool(0),bool(None),bool(''),bool([]),bool(False),bool(print())) # False\n",
    "print(bool(7),bool('Hey'),bool(True),bool(print)) # ==> Everything else is True"
   ]
  },
  {
   "cell_type": "markdown",
   "id": "6bb22df3",
   "metadata": {},
   "source": [
    "> Use `type()` to check the type of a variable/value  "
   ]
  },
  {
   "cell_type": "code",
   "execution_count": null,
   "id": "d33ef25d",
   "metadata": {},
   "outputs": [],
   "source": [
    "print(type(name))\n",
    "print(type(age))\n",
    "print(type(weight))\n",
    "print(type(male))"
   ]
  },
  {
   "cell_type": "markdown",
   "id": "9bc19253",
   "metadata": {},
   "source": [
    "> Alternative: `isinstance(variable, class)`  \n",
    "> Works for manually defined classes as well  "
   ]
  },
  {
   "cell_type": "code",
   "execution_count": null,
   "id": "4bb4cc66",
   "metadata": {},
   "outputs": [],
   "source": [
    "print(isinstance(name, str))"
   ]
  },
  {
   "cell_type": "markdown",
   "id": "0b9cfa2d",
   "metadata": {},
   "source": [
    "  ## __Type Conversion__ <span style=\"font-size:0.9em;\">🔄</span>"
   ]
  },
  {
   "cell_type": "markdown",
   "id": "7d54f5f0",
   "metadata": {},
   "source": [
    "> Convert variables into different types:\n",
    "> - `int()`\n",
    "> - `float()` \n",
    "> - `bool()`\n",
    "> - `str()` \n",
    "> - `list()`\n",
    "> - `tuple()`\n",
    "> - `dict()`"
   ]
  },
  {
   "cell_type": "code",
   "execution_count": null,
   "id": "3e89af5b",
   "metadata": {},
   "outputs": [],
   "source": [
    "variable:int = 5\n",
    "print(float(variable) + 0.5)\n",
    "print(str(variable) + ' is now a string')\n",
    "variable = bool(variable)\n",
    "print('x is now ' + str(variable))"
   ]
  },
  {
   "cell_type": "code",
   "execution_count": null,
   "id": "a2c73e70",
   "metadata": {},
   "outputs": [],
   "source": [
    "variable,y,z = 5,6,7  # multiple assignment\n",
    "class_instantiation = variable,y,z # by default a tuple\n",
    "print(class_instantiation)\n",
    "class_instantiation = list(class_instantiation); class_instantiation[0] = 10\n",
    "print(class_instantiation)"
   ]
  },
  {
   "cell_type": "code",
   "execution_count": null,
   "id": "0669b738",
   "metadata": {},
   "outputs": [],
   "source": [
    "a,last_name,class_instantiation,d = 1,2,3,4\n",
    "print(dict(fist=a, second=last_name, third=class_instantiation, fourth=d))\n",
    "# or\n",
    "nested_lists = (['a',1],['b',2],['c',3],['d',4])\n",
    "print(dict(nested_lists))"
   ]
  },
  {
   "cell_type": "markdown",
   "id": "6282cb0b",
   "metadata": {},
   "source": [
    "## __Strings__ 🪢"
   ]
  },
  {
   "cell_type": "markdown",
   "id": "8e06ccfc",
   "metadata": {},
   "source": [
    "> Strings are immutable sequences of characters that are enclosed in either:  \n",
    "> - '*Apostrophes*'  \n",
    "> - \"*Quotation Marks*\"  \n",
    "> - '''*Triple Primes*'''  "
   ]
  },
  {
   "cell_type": "code",
   "execution_count": null,
   "id": "ef4ba17a",
   "metadata": {},
   "outputs": [],
   "source": [
    "print(type('''hey'''))\n",
    "text1 = \"hello\" + ' world'  # string concatenation\n",
    "print(text1)"
   ]
  },
  {
   "cell_type": "markdown",
   "id": "31a91e34",
   "metadata": {},
   "source": [
    "### Escape Characters 💨"
   ]
  },
  {
   "cell_type": "markdown",
   "id": "eab59013",
   "metadata": {},
   "source": [
    "> - Certain characters can only be integrated in a string by inserting backslash before, e.g.: ' \"\n",
    "> - \\n adds a newline character\n",
    "> - *r\"\"* is a raw string: *\\\\* is taken literally and doesn't function as an escape character"
   ]
  },
  {
   "cell_type": "code",
   "execution_count": null,
   "id": "281df55f",
   "metadata": {},
   "outputs": [],
   "source": [
    "print('Python \\'Programming\\'')\n",
    "print(\"Python 'Programming'\") # alternatively use primes within double quotes\n",
    "print(\"Eins\\nZwei\")\n",
    "print(r\"23\\12\\2025\")"
   ]
  },
  {
   "cell_type": "markdown",
   "id": "50a01ece",
   "metadata": {},
   "source": [
    "### String Methods 🛠️\n"
   ]
  },
  {
   "cell_type": "code",
   "execution_count": null,
   "id": "83e43e03",
   "metadata": {},
   "outputs": [],
   "source": [
    "text2 = \"hello There\" \n",
    "print(text2.upper())\n",
    "print(text2.lower())\n",
    "print(text2.title())\n",
    "print(text2.capitalize())\n",
    "print(text2.replace('There', 'world'))\n",
    "print(text2.split(' '))         # splits the string into a list, separated at the given character\n",
    "print(text2.count('e'))         # counts how often the given character appears in the string\n",
    "print(len(text2))               # length of the string\n",
    "print(text2.startswith('h'))    # checks if the string starts with the given character\n",
    "print(text2.endswith('e'))      # checks if the string ends with the given character\n",
    "print(text2.index('e'))         # returns the index of the first occurrence of the given character\n",
    "print(text2.isalpha())          # checks if the string only contains letters\n",
    "print(text2.isalnum())          # checks if the string only contains letters and numbers\n",
    "print(text2.strip())            # removes whitespace from the beginning and end of the string"
   ]
  },
  {
   "cell_type": "markdown",
   "id": "eb157f84",
   "metadata": {},
   "source": [
    "### F(ormatted)-Strings ⨑"
   ]
  },
  {
   "cell_type": "markdown",
   "id": "ce13b314",
   "metadata": {},
   "source": [
    "> Formatted Strings allow insertion of other types into strings: `f\"{variable} text\"`  "
   ]
  },
  {
   "cell_type": "code",
   "execution_count": null,
   "id": "8baccfef",
   "metadata": {},
   "outputs": [],
   "source": [
    "first_name = \"Samuel\"\n",
    "last_name = \"Jackson\"\n",
    "full_name = f\"{first_name} L. {last_name}\"\n",
    "print(full_name)"
   ]
  },
  {
   "cell_type": "code",
   "execution_count": null,
   "id": "0526e840",
   "metadata": {},
   "outputs": [],
   "source": [
    "x = 100000000\n",
    "y = 5.345962398\n",
    "print(F\"{x + y = }\")\n",
    "print(f\"{x:,}\")              # inserts thousands-separators\n",
    "print(f\"{x:_}\")              # different separators\n",
    "print(F\"{y:.2f}\")            # round to two decimals"
   ]
  },
  {
   "cell_type": "code",
   "execution_count": null,
   "id": "de60b5da",
   "metadata": {},
   "outputs": [],
   "source": [
    "print(f\"|{full_name:>20}|\")  # empty space is added to string's left until it reaches 20 spaces\n",
    "print(f\"|{full_name:<20}|\")  # empty space is added to string's right until it reaches 20 spaces\n",
    "print(f\"|{full_name:^20}|\")  # empty space is added to string until it reaches 20 spaces, placing it in the center\n",
    "print(f\"|{full_name:_^20}|\") # underscore is added to string until it reaches 20 spaces, placing it in the center"
   ]
  },
  {
   "cell_type": "markdown",
   "id": "a4f506dd",
   "metadata": {},
   "source": [
    "## __Indices__ 🔢"
   ]
  },
  {
   "cell_type": "markdown",
   "id": "681ac33c",
   "metadata": {},
   "source": [
    "> Indices can be used on strings and collections.\n",
    ">\\\n",
    "> They access elements/characters on a certain postion.\n",
    "> - Syntax = *object[index]*   \n",
    "> - [0] is first\n",
    "> - [-1] is the last; [-3] is third from the right"
   ]
  },
  {
   "cell_type": "code",
   "execution_count": null,
   "id": "0e47cc63",
   "metadata": {},
   "outputs": [],
   "source": [
    "fruit = \"Apple\"\n",
    "print(fruit[1])\n",
    "print(fruit[-1])"
   ]
  },
  {
   "cell_type": "markdown",
   "id": "461e40aa",
   "metadata": {},
   "source": [
    "### Index Slicing 🔪"
   ]
  },
  {
   "cell_type": "markdown",
   "id": "fcc426c3",
   "metadata": {},
   "source": [
    "> Througj Index Slicing, a sequence of characters/elements is accessed.\n",
    ">\\\n",
    "> - [a:z] means from index a to z (excluding z!)  \n",
    "> - [a:z:x] every x-th element starting from a  \n",
    "> - [a:z:-1] reverse ordere"
   ]
  },
  {
   "cell_type": "code",
   "execution_count": null,
   "id": "912b45af",
   "metadata": {},
   "outputs": [],
   "source": [
    "indices = [0,1,2,3,4,5]\n",
    "print(indices[0:3])     # From index 0 to before 3\n",
    "print(indices[2:])      # Everything from index 2\n",
    "print(indices[:3])      # Everything until before index 3\n",
    "print(indices[:])       # Everything\n",
    "print(indices[-3:])     # Everything from the third last\n",
    "print(indices[:-3])     # Everything until the third last\n",
    "print(indices[-4:-1])   # From the fourth last to before the last\n",
    "print(indices[::-1])    # Reversed\n",
    "print(indices[::-2])    # Reversed, every second element"
   ]
  },
  {
   "cell_type": "markdown",
   "id": "70500fcf",
   "metadata": {},
   "source": [
    "## __Numeric Types__ 🧮"
   ]
  },
  {
   "cell_type": "markdown",
   "id": "ae80095e",
   "metadata": {},
   "source": [
    "> Numbers come in integer, float and complex:  \n",
    "> - `int(5)`\n",
    "> - `float(5.5)`  \n",
    "> - `complex(1j)`"
   ]
  },
  {
   "cell_type": "code",
   "execution_count": null,
   "id": "7f7f0382",
   "metadata": {},
   "outputs": [],
   "source": [
    "x:int = 5\n",
    "y:float = 5.0\n",
    "z:float = -5E3\n",
    "a:float = 10e10\n",
    "print(x, y, z, a)"
   ]
  },
  {
   "cell_type": "code",
   "execution_count": null,
   "id": "f0fd7288",
   "metadata": {},
   "outputs": [],
   "source": [
    "x:complex = 3+5j\n",
    "y:complex = -4.5j\n",
    "print(x + y)"
   ]
  },
  {
   "cell_type": "markdown",
   "id": "387f0710",
   "metadata": {},
   "source": [
    "> Math operations can be used to calculate with them:\n",
    "> - For standard operations: \\+ \\- * / \n",
    "> - // cuts off the decimal (no correct rounding!)  \n",
    "> - % is the remainder of a division (= Modulus)\n",
    "> - ** potentiate "
   ]
  },
  {
   "cell_type": "code",
   "execution_count": null,
   "id": "077daadb",
   "metadata": {},
   "outputs": [],
   "source": [
    "5**10 == 9765625\n",
    "11 % 10 == 1\n",
    "14 // 10 == 1"
   ]
  },
  {
   "cell_type": "markdown",
   "id": "3944bac4",
   "metadata": {},
   "source": [
    "### Comparison Operators"
   ]
  },
  {
   "cell_type": "markdown",
   "id": "5d48423b",
   "metadata": {},
   "source": [
    "> They return boolean values  \n",
    "> They can also be performed on strings"
   ]
  },
  {
   "cell_type": "code",
   "execution_count": null,
   "id": "e3546b8f",
   "metadata": {},
   "outputs": [],
   "source": [
    "5 != 6\n",
    "4 == 4\n",
    "1 < 2\n",
    "2 > 1\n",
    "100 >= 100\n",
    "'Raphael' == 'Raphael'"
   ]
  },
  {
   "cell_type": "markdown",
   "id": "0d6e21ab",
   "metadata": {},
   "source": [
    "### Number Methods 🛠️\n"
   ]
  },
  {
   "cell_type": "markdown",
   "id": "33fa4420",
   "metadata": {},
   "source": [
    "> - `sum()` adds elements of an iterable\n",
    "> - `round()` rounds a fload\n",
    "> - `abs()` gives the absolute value"
   ]
  },
  {
   "cell_type": "code",
   "execution_count": null,
   "id": "42f1cb89",
   "metadata": {},
   "outputs": [],
   "source": [
    "print(sum((2,2,2)))\n",
    "print(round(2.51))\n",
    "print(abs(-33))"
   ]
  },
  {
   "cell_type": "markdown",
   "id": "403b6713",
   "metadata": {},
   "source": [
    "> `math` is a module that provides additional methods. It is imported as an object and therefore methods can be performed on it `math.method()`  \n",
    "> There is a plethora of methods that can be looked up online"
   ]
  },
  {
   "cell_type": "code",
   "execution_count": null,
   "id": "d89d5254",
   "metadata": {},
   "outputs": [],
   "source": [
    "import math\n",
    "\n",
    "print(math.ceil(4.2)) # round up\n",
    "print(math.floor(5.99)) # round down\n",
    "print(math.dist([0,0],[1,1])) # distance between two points\n",
    "print(math.sin(1))\n",
    "print(math.factorial(5))\n",
    "print(math.sqrt(9))\n",
    "print(math.pi)"
   ]
  },
  {
   "cell_type": "markdown",
   "id": "0804b960",
   "metadata": {},
   "source": [
    "## __Collections__ 📚"
   ]
  },
  {
   "cell_type": "markdown",
   "id": "5a818873",
   "metadata": {},
   "source": [
    "> → Lists, Sets, Tuples, and Dictionaries (= complex types)  \n",
    "> They contain several elements of various types and are iterable  \n",
    "> All of them, except Tuples, are mutable"
   ]
  },
  {
   "cell_type": "markdown",
   "id": "3aeb5597",
   "metadata": {},
   "source": [
    "### Lists 📋"
   ]
  },
  {
   "cell_type": "markdown",
   "id": "d444d0bf",
   "metadata": {},
   "source": [
    "> Lists are collections that use Square Brackets: `list = []`  \n",
    "> Elements can be any type and are separated by commas  \n",
    "> Lists are mutable, so their elements can be changed"
   ]
  },
  {
   "cell_type": "code",
   "execution_count": null,
   "id": "ed0aba79",
   "metadata": {},
   "outputs": [],
   "source": [
    "names = ['John', 'Bob', 'Sarah']\n",
    "names[0] = 'Jon'\n",
    "print(names)\n",
    "print(names[2])\n",
    "print(names[1:])"
   ]
  },
  {
   "cell_type": "markdown",
   "id": "df008f27",
   "metadata": {},
   "source": [
    "#### List methods 🛠️"
   ]
  },
  {
   "cell_type": "code",
   "execution_count": null,
   "id": "4e82b706",
   "metadata": {},
   "outputs": [],
   "source": [
    "numbers = [3,2,5,1,3,3]\n",
    "\n",
    "numbers.append(6)       # insert 6 in new index\n",
    "numbers.insert(0, 4)    # insert at index 0 the value 4\n",
    "numbers.remove(5)       # remove value 5\n",
    "print(numbers)\n",
    "print(numbers.index(1)) # index of first occurrence value 1\n",
    "numbers_copy = numbers.copy() # create a copy\n",
    "print(numbers_copy.count(3)) # how often is this value in the list\n",
    "numbers.extend([8,9,10]) # add elements of iterable to the end of this list\n",
    "print(numbers)"
   ]
  },
  {
   "cell_type": "code",
   "execution_count": null,
   "id": "d1ec8f45",
   "metadata": {},
   "outputs": [],
   "source": [
    "numbers.reverse()       # reverse order of elements\n",
    "print(numbers)\n",
    "numbers.pop(0)          # remove element at index 0\n",
    "numbers.sort()\n",
    "print(numbers)\n",
    "numbers.clear()         # remove all elements\n",
    "print(numbers)"
   ]
  },
  {
   "cell_type": "code",
   "execution_count": null,
   "id": "5d2cc3e1",
   "metadata": {},
   "outputs": [],
   "source": [
    "# converting numbers from a list to a string\n",
    "test_list = [1,2,3,4]\n",
    "string_from_list = str(test_list)\n",
    "print(string_from_list[0:3])\n",
    "print(string_from_list.strip('[]').replace(',',''))"
   ]
  },
  {
   "cell_type": "markdown",
   "id": "5f0b2ffb",
   "metadata": {},
   "source": [
    "#### Matrices/2D Lists 📱"
   ]
  },
  {
   "cell_type": "markdown",
   "id": "b2361524",
   "metadata": {},
   "source": [
    "> A Matrix is a list consisting of elements which themselves are lists\n",
    "> - use the second index to access an element within a list of the matrix\n",
    "> - `matrix[0][0]` is the first element of the first list within the 2D list\n",
    "> - to loop through all sub elements, use nested for loops"
   ]
  },
  {
   "cell_type": "code",
   "execution_count": null,
   "id": "456f9b03",
   "metadata": {},
   "outputs": [],
   "source": [
    "matrix = [[1, 2, 3], [4, 5, 6], [7, 8, 9]]\n",
    "print(matrix[0][0])\n",
    "\n",
    "for list in matrix:\n",
    "    for number in list:\n",
    "        print(number)"
   ]
  },
  {
   "cell_type": "code",
   "execution_count": null,
   "id": "d2cc5699",
   "metadata": {},
   "outputs": [],
   "source": [
    "matrix = [[1,2],[3,4]],[[[4,5],[6,7]],[8,9,[[44],[45]],8],[2]] # don't do this\n",
    "print(matrix[1][1][2][1])"
   ]
  },
  {
   "cell_type": "markdown",
   "id": "c66fa159",
   "metadata": {},
   "source": [
    "### Sets 🔣"
   ]
  },
  {
   "cell_type": "markdown",
   "id": "423d446e",
   "metadata": {},
   "source": [
    "> Sets have curly braces `set = {}`\n",
    "> - They are similar to lists, but only allow unique elements (no duplicates)\n",
    "> - They cannot be indexed unless you type-convert it first"
   ]
  },
  {
   "cell_type": "code",
   "execution_count": null,
   "id": "5b506600",
   "metadata": {},
   "outputs": [],
   "source": [
    "set1 = {2, 2, 3, 5, 6, 7}        # the second \"2\" does not count!\n",
    "print(set1)\n",
    "\n",
    "another_set = {1,2,3,4}\n",
    "print(list(another_set)[0])\n",
    "\n",
    "print(set1.union(another_set))                # = set1 | another_set\n",
    "print(set1.intersection(another_set))         # = set1 & another_set\n",
    "print(set1.difference(another_set))           # = set1 - another_set\n",
    "print(another_set.issubset(another_set))      # whether all items of a set are in another set\n",
    "print(another_set.symmetric_difference(set1)) # only elements unique to each set are kept"
   ]
  },
  {
   "cell_type": "markdown",
   "id": "2397e992",
   "metadata": {},
   "source": [
    "> You can create a `frozenset`, which as an immutable set:"
   ]
  },
  {
   "cell_type": "code",
   "execution_count": null,
   "id": "63ff9915",
   "metadata": {},
   "outputs": [],
   "source": [
    "immutable_set = frozenset([1,2,3])\n",
    "print(immutable_set)\n",
    "# immutable_set.remove(1) impossible"
   ]
  },
  {
   "cell_type": "markdown",
   "id": "b0cfdaaf",
   "metadata": {},
   "source": [
    "### Tuples 🔒"
   ]
  },
  {
   "cell_type": "markdown",
   "id": "99f7939f",
   "metadata": {},
   "source": [
    "> Tuples use round brackets: `tuple = ()`  \n",
    "> - They are immutable, so use them if you don't want to change the elements\n",
    "> - They can only be counted, printed, indexed, etc."
   ]
  },
  {
   "cell_type": "code",
   "execution_count": null,
   "id": "7120e9e5",
   "metadata": {},
   "outputs": [],
   "source": [
    "numbers = (1, 2, 3)         # numbers[0] = 5 is not possible!\n",
    "print(numbers[0])\n",
    "print(numbers.count(2))     # counts instances of value 2 in the tuple"
   ]
  },
  {
   "cell_type": "markdown",
   "id": "c16f5117",
   "metadata": {},
   "source": [
    "### Unpacking 🎁"
   ]
  },
  {
   "cell_type": "markdown",
   "id": "88284b39",
   "metadata": {},
   "source": [
    "> Unpacking is used to assign elements of a list to multiple variables at once  \n",
    "> - It can be performed on lists, tuples, and sets\n",
    "> - The number of variables has to match the numbers of elements in the collection"
   ]
  },
  {
   "cell_type": "code",
   "execution_count": null,
   "id": "5b7acd55",
   "metadata": {},
   "outputs": [],
   "source": [
    "coordinates = (1,2,3)\n",
    "# instead of this:\n",
    "x = coordinates[0]\n",
    "y = coordinates[1]\n",
    "z = coordinates[2]\n",
    "# you can unpack the list:\n",
    "x, y, z = coordinates\n",
    "print(f'x:{x} y:{y} z:{z}')"
   ]
  },
  {
   "cell_type": "markdown",
   "id": "71e2e6b4",
   "metadata": {},
   "source": [
    "### Dictionaries 📖"
   ]
  },
  {
   "cell_type": "markdown",
   "id": "a4ac582b",
   "metadata": {},
   "source": [
    "> Dictionaries are collections, the elements of which are key-value pairs\n",
    "> - A key ha to be defined by a value\n",
    "> - Every values can be assigned (even functions and classes!)\n",
    "> - A key's value can be replaced → dicts are mutable"
   ]
  },
  {
   "cell_type": "code",
   "execution_count": null,
   "id": "d11fc2db",
   "metadata": {},
   "outputs": [],
   "source": [
    "class Person:\n",
    "    height = 180\n",
    "    weight = 80\n",
    "\n",
    "customer = {\n",
    "\"name\": \"John Smith\",\n",
    "\"age\": 30,\n",
    "\"is_verified\": True,\n",
    "\"say\": print,\n",
    "\"attributes\": Person()\n",
    "}\n",
    "\n",
    "customer[\"age\"] = 25\n",
    "print(customer[\"name\"], customer[\"age\"])\n",
    "print(customer.get('age')) # this avoids errors, if the key does not exist\n",
    "\n",
    "customer.update({'income':1000})\n",
    "print(customer)\n",
    "\n",
    "print(25 in customer.values())\n",
    "print('age' in customer.keys())\n",
    "\n",
    "customer['say']('hello')\n",
    "John_Smith = customer['attributes']\n",
    "John_Smith.weight"
   ]
  },
  {
   "cell_type": "markdown",
   "id": "1a1d2038",
   "metadata": {},
   "source": [
    "#### Separately accessing keys and values of a dictionary"
   ]
  },
  {
   "cell_type": "markdown",
   "id": "b759f249",
   "metadata": {},
   "source": [
    "> `dict.items()` returns a list with tuples for each key value pair  \n",
    "> `dict.values()` returns a list with all values  \n",
    "> `dict.keys()` returns a list with all keys"
   ]
  },
  {
   "cell_type": "code",
   "execution_count": null,
   "id": "44bc21f7",
   "metadata": {},
   "outputs": [],
   "source": [
    "operation = {\n",
    "    'divided by':'/',\n",
    "    'multiplied with':'*',\n",
    "    'plus':'+',\n",
    "    'minus':'-'\n",
    "}\n",
    "\n",
    "print('\\n2 ' + operation['divided by'] + ' 2 ' + '= ' '1\\n')\n",
    "print(operation.values())\n",
    "print(operation.keys())\n",
    "print(operation.items())"
   ]
  },
  {
   "cell_type": "code",
   "execution_count": null,
   "id": "9ae3e118",
   "metadata": {},
   "outputs": [],
   "source": [
    "print(f'Dictionary = {operation}\\n')\n",
    "\n",
    "counter = 0                                     # merely for numbering keys and values\n",
    "\n",
    "for separated_pair in list(operation.items()):\n",
    "    counter += 1                                # same here\n",
    "    print(f\"Key {counter}: {separated_pair[0]}\\nValue {counter}: {separated_pair[1]}\")"
   ]
  },
  {
   "cell_type": "code",
   "execution_count": null,
   "id": "2f548e77",
   "metadata": {},
   "outputs": [],
   "source": [
    "print('Keys:\\n')\n",
    "for key_value_pair in operation.items():\n",
    "    print(key_value_pair[0])\n",
    "    \n",
    "print('\\nValues:\\n')\n",
    "for key_value_pair in operation.items():\n",
    "    print(key_value_pair[1])"
   ]
  },
  {
   "cell_type": "markdown",
   "id": "feffc5b6",
   "metadata": {},
   "source": [
    "---\n",
    "# <div style=\"margin-left:375px\">__<span style=\"color:#EB0C2D\">**Conditional Statements**</spna>__</div>"
   ]
  },
  {
   "cell_type": "markdown",
   "id": "8cc5a8cb",
   "metadata": {},
   "source": [
    "They are also referred to as 'If Statements'.  \n",
    "A block of code is only executed if the specified conditions are met.  \n",
    "- Structure:  \n",
    "    1. Conditional Keyword: `if` | `elif` | `else`  \n",
    "    2. Boolean Expression: `temperature > 30` | `True` | `boolean_variable` (anything returning `True`/`False`; nothing after `else`)\n",
    "    3. Colon\n",
    "    4. Indented block of code that will get executet if True was returned"
   ]
  },
  {
   "cell_type": "code",
   "execution_count": null,
   "id": "7a0c15df",
   "metadata": {},
   "outputs": [],
   "source": [
    "temperature = 15\n",
    "if temperature > 30:\n",
    "    print(\"It's warm\")\n",
    "    print(\"definitely\")\n",
    "elif temperature > 20:\n",
    "    print(\"It's nice\") \n",
    "else:\n",
    "    print(\"It's cold\")\n",
    "print(\"Done\")"
   ]
  },
  {
   "cell_type": "markdown",
   "id": "f338288b",
   "metadata": {},
   "source": [
    "## __Ternary Operator__ 🔀"
   ]
  },
  {
   "cell_type": "markdown",
   "id": "fd4edf2d",
   "metadata": {},
   "source": [
    "> Is a compact one-line conditional statement"
   ]
  },
  {
   "cell_type": "markdown",
   "id": "36641195",
   "metadata": {},
   "source": [
    "> Instead of assigning a variable with different values like this:"
   ]
  },
  {
   "cell_type": "code",
   "execution_count": null,
   "id": "33d43193",
   "metadata": {},
   "outputs": [],
   "source": [
    "age = 22\n",
    "if age >= 18:\n",
    "    message = \"Eligible\"\n",
    "else:\n",
    "    message = \"Not eligible\"\n",
    "print(message)"
   ]
  },
  {
   "cell_type": "markdown",
   "id": "9526b6d1",
   "metadata": {},
   "source": [
    "> Do this instead:"
   ]
  },
  {
   "cell_type": "code",
   "execution_count": null,
   "id": "e7e18094",
   "metadata": {},
   "outputs": [],
   "source": [
    "age = 22\n",
    "message = \"Eligible\" if age >= 18 else \"Not eligible\"\n",
    "print(message)"
   ]
  },
  {
   "cell_type": "markdown",
   "id": "231ec8ef",
   "metadata": {},
   "source": [
    "## __Logical Operators__ ↔️"
   ]
  },
  {
   "cell_type": "markdown",
   "id": "264d96f2",
   "metadata": {},
   "source": [
    "> These are: *`and`* | *`or`* | *`not`*"
   ]
  },
  {
   "cell_type": "markdown",
   "id": "5d5a99b7",
   "metadata": {},
   "source": [
    "> *`and`*: both conditions have to be met:"
   ]
  },
  {
   "cell_type": "code",
   "execution_count": null,
   "id": "2bd3ca6a",
   "metadata": {},
   "outputs": [],
   "source": [
    "high_income = False\n",
    "good_credit = True\n",
    "\n",
    "if high_income and good_credit:\n",
    "    print(\"Eligible\")\n",
    "else:\n",
    "    print(\"Not eligible\")"
   ]
  },
  {
   "cell_type": "markdown",
   "id": "df56d7b4",
   "metadata": {},
   "source": [
    "> *`or`*: one of the conditions has to be met: "
   ]
  },
  {
   "cell_type": "code",
   "execution_count": null,
   "id": "900dada8",
   "metadata": {},
   "outputs": [],
   "source": [
    "high_income = False\n",
    "good_credit = True\n",
    "\n",
    "if high_income or good_credit:\n",
    "    print(\"Eligible\")\n",
    "else:\n",
    "    print(\"Not eligible\")"
   ]
  },
  {
   "cell_type": "markdown",
   "id": "34fed802",
   "metadata": {},
   "source": [
    "*`not`*: the condition must not be met: "
   ]
  },
  {
   "cell_type": "code",
   "execution_count": null,
   "id": "7d6f07cc",
   "metadata": {},
   "outputs": [],
   "source": [
    "student = True\n",
    "\n",
    "if not student:\n",
    "    print(\"Eligible\")\n",
    "else:\n",
    "    print(\"Not eligible\")"
   ]
  },
  {
   "cell_type": "markdown",
   "id": "b8286e21",
   "metadata": {},
   "source": [
    "### Chaining Logical Oprerators 🔗"
   ]
  },
  {
   "cell_type": "markdown",
   "id": "ea6f0639",
   "metadata": {
    "slideshow": {
     "slide_type": "slide"
    }
   },
   "source": [
    "> `(y or z) and x` = \"`x` must be met together with either `y` or `z`\":"
   ]
  },
  {
   "cell_type": "code",
   "execution_count": null,
   "id": "c7cfda88",
   "metadata": {},
   "outputs": [],
   "source": [
    "high_income = False\n",
    "good_credit = True\n",
    "student = False\n",
    "\n",
    "if (high_income or good_credit) and not student:\n",
    "    print(\"Eligible\")\n",
    "else:\n",
    "    print(\"Not eligible\")"
   ]
  },
  {
   "cell_type": "markdown",
   "id": "d9a9cf87",
   "metadata": {},
   "source": [
    "### Short-circuit Evaluations ⚡"
   ]
  },
  {
   "cell_type": "markdown",
   "id": "4cde002b",
   "metadata": {},
   "source": [
    "> Logical operators are short-circuited, meaning that the program checks starting from the left and continues only to the point where the if-statement's outcome can be determined.  \n",
    "> In the example below, Python stops executing line 5 after `good_credit`."
   ]
  },
  {
   "cell_type": "code",
   "execution_count": null,
   "id": "187f8383",
   "metadata": {},
   "outputs": [],
   "source": [
    "high_income = False\n",
    "good_credit = True\n",
    "student = True\n",
    "\n",
    "if high_income or good_credit or not student:\n",
    "    print(\"Eligible\")"
   ]
  },
  {
   "cell_type": "markdown",
   "id": "131439fc",
   "metadata": {},
   "source": [
    "> Number evaluation can be done more efficiently:"
   ]
  },
  {
   "cell_type": "code",
   "execution_count": null,
   "id": "48287839",
   "metadata": {},
   "outputs": [],
   "source": [
    "age = 22\n",
    "\n",
    "# we want the age to be between 18 and 65\n",
    "# instead of: if age >= 18 and <65:\n",
    "if 18 <= age < 65:\n",
    "    print(\"Eligible\")"
   ]
  },
  {
   "cell_type": "markdown",
   "id": "cdb7252b",
   "metadata": {},
   "source": [
    "## __Match cases__ 💼"
   ]
  },
  {
   "cell_type": "markdown",
   "id": "565fe6fb",
   "metadata": {},
   "source": [
    "> They basically function like if-statements\n",
    "> - Structure:\n",
    ">   1. *`match`* `object:` → object to check the value of  \n",
    ">   2. *`case`* `value:`   → if object has this value, following code will be executed (can be indefinitely repeated)\n",
    ">   3. `*indented code*`\n",
    ">   4. *`case`* `_:`       → if none of the above cases are true, this will be executed (= *`else`*)\n",
    ">   5. `*indented code*`"
   ]
  },
  {
   "cell_type": "code",
   "execution_count": null,
   "id": "1d28bfbc",
   "metadata": {},
   "outputs": [],
   "source": [
    "import random\n",
    "\n",
    "moods = ['sad', 'hungry', 'thirsty', 'something else']\n",
    "mood = random.choice(moods)\n",
    "\n",
    "print(mood)\n",
    "\n",
    "match mood:\n",
    "    case 'hungry':\n",
    "        print('Get some food')\n",
    "    case 'sad':\n",
    "        print('I don\\'t want to talk')\n",
    "    case 'thirsty':\n",
    "        print('Get some water')\n",
    "    case _:                     # '_' means 'else'\n",
    "        print('Any other mood')"
   ]
  },
  {
   "cell_type": "markdown",
   "id": "33e86765",
   "metadata": {},
   "source": [
    "---\n",
    "# <div style=\"margin-left:550px\">__<span style=\"color:red\">**L**</spna><span style=\"color:yellow\">**o**</spna><span style=\"color:orange\">**o**</spna><span style=\"color:green\">**p**</spna><span style=\"color:blue\">**s**</spna>__</div>"
   ]
  },
  {
   "cell_type": "markdown",
   "id": "aeb77de2",
   "metadata": {},
   "source": [
    "## __For Loops__ 🔁"
   ]
  },
  {
   "cell_type": "markdown",
   "id": "fb48465b",
   "metadata": {},
   "source": [
    "For Loops are sections of code that get executed several times.  \n",
    "They are performed on an iterables (= complex types).  \n",
    "These are collections, strings and range."
   ]
  },
  {
   "cell_type": "markdown",
   "id": "d36ab74b",
   "metadata": {},
   "source": [
    "> Structure:\n",
    "> - *`for`* `element` *`in`* `iterable:`\n",
    ">   - `code involving element`"
   ]
  },
  {
   "cell_type": "code",
   "execution_count": null,
   "id": "0f7bec71",
   "metadata": {},
   "outputs": [],
   "source": [
    "for x in \"Python\":\n",
    "    print(x)"
   ]
  },
  {
   "cell_type": "code",
   "execution_count": null,
   "id": "d66f6dbf",
   "metadata": {},
   "outputs": [],
   "source": [
    "for x in [1, 2, 3, 4]:\n",
    "    print(x)"
   ]
  },
  {
   "cell_type": "markdown",
   "id": "13de574a",
   "metadata": {},
   "source": [
    "### Iterable type *`range()`* 🎚️"
   ]
  },
  {
   "cell_type": "markdown",
   "id": "3775535a",
   "metadata": {},
   "source": [
    "> It is a complex type that is iterable  \n",
    "> ``range(5)`` returns numbers form 0 to 4"
   ]
  },
  {
   "cell_type": "code",
   "execution_count": null,
   "id": "eccc3880",
   "metadata": {},
   "outputs": [],
   "source": [
    "print(type(range(5)))\n",
    "x = list(range(5))\n",
    "print(x)"
   ]
  },
  {
   "cell_type": "code",
   "execution_count": null,
   "id": "ce8f2329",
   "metadata": {},
   "outputs": [],
   "source": [
    "for each_number in range(3):\n",
    "    print(\"Attempt\", each_number + 1, (each_number + 1) * \".\")"
   ]
  },
  {
   "cell_type": "markdown",
   "id": "bf4753b5",
   "metadata": {},
   "source": [
    "> `range(1, 10, 2)` will generate numbers from 1 to 10 in steps of 2"
   ]
  },
  {
   "cell_type": "code",
   "execution_count": null,
   "id": "0230180c",
   "metadata": {},
   "outputs": [],
   "source": [
    "for each_number in range(1, 10, 2):\n",
    "    print(\"Attempt\", each_number, each_number * \".\")"
   ]
  },
  {
   "cell_type": "markdown",
   "id": "c1f9c448",
   "metadata": {},
   "source": [
    "### Keyword *`break`* ⛔"
   ]
  },
  {
   "cell_type": "markdown",
   "id": "9f6f0437",
   "metadata": {},
   "source": [
    "> The keyword *`break`* ends the loop immediately, preventing further execution of the loop lines  "
   ]
  },
  {
   "cell_type": "code",
   "execution_count": null,
   "id": "a9b16ccf",
   "metadata": {},
   "outputs": [],
   "source": [
    "successful = True\n",
    "for each_number in range(3):\n",
    "    print(\"Attempt\")\n",
    "    if successful:\n",
    "        print(\"Successful\")\n",
    "        break\n",
    "else:\n",
    "    print(\"Attempted 3 times and failed\")"
   ]
  },
  {
   "cell_type": "markdown",
   "id": "98078fc9",
   "metadata": {},
   "source": [
    "### Nested Loops 🪆"
   ]
  },
  {
   "cell_type": "markdown",
   "id": "2e5184ad",
   "metadata": {},
   "source": [
    "> First an outer loop is defined, then an indented inner loop.  \n",
    "> Each iteration of the outer loop iterates the inner loop multiple times until its over:  \n",
    "> The first value of the outer loop is coupled with each of the values of the inner loop individually  \n",
    "> Then the same happens for all other values of the outer loop"
   ]
  },
  {
   "cell_type": "code",
   "execution_count": null,
   "id": "c82e367d",
   "metadata": {},
   "outputs": [],
   "source": [
    "for x in range(1,4):\n",
    "    for MultOfThree in range(1,4):\n",
    "        print(f\"({x}.{MultOfThree})\")\n",
    "        print()"
   ]
  },
  {
   "cell_type": "markdown",
   "id": "a05a7237",
   "metadata": {},
   "source": [
    "### List comprehension 📝"
   ]
  },
  {
   "cell_type": "markdown",
   "id": "94ee48f5",
   "metadata": {},
   "source": [
    "> Can be applied to any iterable   \n",
    "> Creates a list directly with a for loop   "
   ]
  },
  {
   "cell_type": "code",
   "execution_count": null,
   "id": "e2febabd",
   "metadata": {},
   "outputs": [],
   "source": [
    "# instead of:\n",
    "my_list = []\n",
    "for num in range(1,11):\n",
    "    my_list.append(num)\n",
    "print(my_list)"
   ]
  },
  {
   "cell_type": "code",
   "execution_count": null,
   "id": "26382e36",
   "metadata": {},
   "outputs": [],
   "source": [
    "# do this:\n",
    "comprehension_list = [num for num in range(1,11)]\n",
    "\n",
    "print(comprehension_list)"
   ]
  },
  {
   "cell_type": "code",
   "execution_count": null,
   "id": "f7bd586d",
   "metadata": {},
   "outputs": [],
   "source": [
    "# create a list of tuples combined with conditional statements:\n",
    "comprehension_list = [(num,num,num) if num < 10 else 0\\\n",
    "                       for num in range(1,15)]\n",
    "print(comprehension_list)"
   ]
  },
  {
   "cell_type": "code",
   "execution_count": null,
   "id": "ca46d598",
   "metadata": {},
   "outputs": [],
   "source": [
    "# zip() creates tuples with elements of two iterables with the corresponding indices\n",
    "names = ['Screws', 'Wheels', 'Wood']\n",
    "numbers = [33, 21, 47]\n",
    "replenish_list = [(name,number) for name,number in\\\n",
    "                   zip(names, numbers) if number < 35]\n",
    "print(replenish_list)"
   ]
  },
  {
   "cell_type": "code",
   "execution_count": null,
   "id": "f6dd0730",
   "metadata": {},
   "outputs": [],
   "source": [
    "# combine list comprehension\n",
    "combined_comp = [[(x,y) for x in range(3)] for y in range(5)]\n",
    "print(combined_comp)"
   ]
  },
  {
   "cell_type": "code",
   "execution_count": null,
   "id": "b56852d6",
   "metadata": {},
   "outputs": [],
   "source": [
    "# create a chessboard\n",
    "chess_board = [[f'{letter}{number}' for number in range(1,9)] for letter in 'ABCDEFGH'[::-1]]\n",
    "for row in chess_board:\n",
    "    print(row)"
   ]
  },
  {
   "cell_type": "code",
   "execution_count": null,
   "id": "b70aed53",
   "metadata": {},
   "outputs": [],
   "source": [
    "set_comp = {num for num in range(10)}\n",
    "tuple_comp = tuple(num for num in range(10))\n",
    "dict_comp = {key: key**2 for key in range(10)}\n",
    "print(set_comp)\n",
    "print(tuple_comp)\n",
    "print(dict_comp)"
   ]
  },
  {
   "cell_type": "code",
   "execution_count": null,
   "id": "31c36b22",
   "metadata": {},
   "outputs": [],
   "source": [
    "dict_comp_ex = {key: [1,2,3,4] for key in 'ABCDE'}\n",
    "print(dict_comp_ex)"
   ]
  },
  {
   "cell_type": "markdown",
   "id": "d97d49e7",
   "metadata": {},
   "source": [
    "## __While Loops__ 🔄"
   ]
  },
  {
   "cell_type": "markdown",
   "id": "23bceca9",
   "metadata": {},
   "source": [
    "While loops are sections of code that are repeatedly executed as long as a specified condition is met.\n"
   ]
  },
  {
   "cell_type": "markdown",
   "id": "00a10912",
   "metadata": {},
   "source": [
    "> Structure:\n",
    "> - *`while`* `boolean expression:`\n",
    ">   - `code to be repeated`"
   ]
  },
  {
   "cell_type": "code",
   "execution_count": null,
   "id": "b34eb09a",
   "metadata": {},
   "outputs": [],
   "source": [
    "number_is = 100\n",
    "while number_is > 0:\n",
    "    print(number_is)\n",
    "    number_is //= 2"
   ]
  },
  {
   "cell_type": "markdown",
   "id": "80d084de",
   "metadata": {},
   "source": [
    "> Here you can provid input until you type \"quit\". It has to be this exact string in lowercase  \n",
    "> *`lower()`* converts the input to lowercase before checking if the command matches \"quit\", thereby allowing it to work for variations like: 'QUit','quit','Quit'..."
   ]
  },
  {
   "cell_type": "code",
   "execution_count": null,
   "id": "2c1573a2",
   "metadata": {},
   "outputs": [],
   "source": [
    "command = \"\"\n",
    "while command != \"quit\":\n",
    "    command = input(\">\")\n",
    "    print(\"ECHO\", command)"
   ]
  },
  {
   "cell_type": "code",
   "execution_count": null,
   "id": "ff0e2454",
   "metadata": {},
   "outputs": [],
   "source": [
    "command = \"\"\n",
    "while command.lower() != \"quit\":\n",
    "    command = input(\">\")\n",
    "    print(\"ECHO\", command)"
   ]
  },
  {
   "cell_type": "markdown",
   "id": "918a16ee",
   "metadata": {},
   "source": [
    "### Infinite Loops ♾️"
   ]
  },
  {
   "cell_type": "markdown",
   "id": "5302175b",
   "metadata": {},
   "source": [
    "> Are while loops that run forever.  \n",
    "> Tey may lead to crashes, or force you to interrupt the kernel  \n",
    "> Therefore, always include *`break`* at some point!"
   ]
  },
  {
   "cell_type": "code",
   "execution_count": null,
   "id": "deb32e55",
   "metadata": {},
   "outputs": [],
   "source": [
    "while True:\n",
    "    command = input(\">\")\n",
    "    print(\"ECHO\", command)\n",
    "    if command.lower() == \"quit\":           # if these two lines did't exist\n",
    "        break                               # the loop would run indefinitely"
   ]
  },
  {
   "cell_type": "markdown",
   "id": "c2c42b11",
   "metadata": {},
   "source": [
    "---  \n",
    "# <div style=\"margin-left:510px\">__<span style=\"color:#1F11F0\">**Functions**</spna>__</div>"
   ]
  },
  {
   "cell_type": "markdown",
   "id": "7a115b14",
   "metadata": {},
   "source": [
    "Functions execute a chunk of code when called.  \n",
    "To call a function that is not built-in, you must define it first.\n",
    "- Define a function:  \n",
    "    - `def function():`  \n",
    "        - `code to be executed`\n",
    "\n",
    "- Call a function:  \n",
    "    - `function()`  "
   ]
  },
  {
   "cell_type": "code",
   "execution_count": null,
   "id": "9466131a",
   "metadata": {},
   "outputs": [],
   "source": [
    "def greet():\n",
    "    print(\"Hi there\")\n",
    "    print(\"Welcome aboard\")\n",
    "\n",
    "greet()"
   ]
  },
  {
   "cell_type": "markdown",
   "id": "ec4089a3",
   "metadata": {},
   "source": [
    "## __Scope__ 🌐"
   ]
  },
  {
   "cell_type": "markdown",
   "id": "591f57a0",
   "metadata": {},
   "source": [
    "> Variables defined within a function are stored in the local scope.   \n",
    "> This means that other functions cannot access this very variable  \n",
    "> Variables in the global scope remain unchanged  "
   ]
  },
  {
   "cell_type": "code",
   "execution_count": null,
   "id": "15a9d187",
   "metadata": {},
   "outputs": [],
   "source": [
    "x = 10\n",
    "\n",
    "def new_number():\n",
    "    x = 5                   # noqa: F841\n",
    "    print(f'Local {x = }')\n",
    "    \n",
    "new_number()\n",
    "print(f'Global {x = }')"
   ]
  },
  {
   "cell_type": "markdown",
   "id": "296cb907",
   "metadata": {},
   "source": [
    "> You can assign a function variable in the global scope by including: `global` `variable`  \n",
    "> Only then can a function variable be assigned globally:"
   ]
  },
  {
   "cell_type": "code",
   "execution_count": null,
   "id": "4c9f44e1",
   "metadata": {},
   "outputs": [],
   "source": [
    "a = 10\n",
    "def test_func() -> int: # use -> to hint at expected result type\n",
    "    a = 2\n",
    "    print(a)\n",
    "\n",
    "def test_func2():\n",
    "    global a\n",
    "    a += 400\n",
    "    print(a)\n",
    "\n",
    "F'local var {test_func()}'\n",
    "F'gloabal Function var {test_func2()}'\n",
    "F'global Function var {test_func()}'\n",
    "F'global Function var {test_func2()}'"
   ]
  },
  {
   "cell_type": "code",
   "execution_count": null,
   "id": "2e2536c1",
   "metadata": {},
   "outputs": [],
   "source": [
    "x = 10\n",
    "\n",
    "def new_number():\n",
    "    global x\n",
    "    x = 5\n",
    "print(x)\n",
    "new_number()\n",
    "print(x)"
   ]
  },
  {
   "cell_type": "markdown",
   "id": "aa9a44a7",
   "metadata": {},
   "source": [
    "> Mutable objects like dictionaries, however, can be mutated in a function by default:"
   ]
  },
  {
   "cell_type": "code",
   "execution_count": null,
   "id": "16a5c86f",
   "metadata": {},
   "outputs": [],
   "source": [
    "global_dict = {\"a\": 5, \"b\": 44, \"c\": 7}\n",
    "\n",
    "def operation():\n",
    "    global_dict[\"b\"] = 6\n",
    "\n",
    "operation()             # changes \"b\" from 44 to 6\n",
    "print(global_dict)      # {'a':5,'b':6,'c':7}"
   ]
  },
  {
   "cell_type": "markdown",
   "id": "ec4ac3aa",
   "metadata": {},
   "source": [
    "## __Parameters__ 🎛️"
   ]
  },
  {
   "cell_type": "markdown",
   "id": "444ddb30",
   "metadata": {},
   "source": [
    "> You can define the parameters a function requires when calling it:  \n",
    ">   `def` *`function(parameter_1, parameter_2)`*  \n",
    ">\n",
    "> Note: *formal parameter* is what you define in the function, whereas *argument* or *actual parameter* is a formal parameter's specific value that is prvided when calling the function"
   ]
  },
  {
   "cell_type": "code",
   "execution_count": null,
   "id": "95f5c839",
   "metadata": {},
   "outputs": [],
   "source": [
    "def greet(first_name, last_name) -> str:\n",
    "    print(f\"Hi, {first_name} {last_name}!\")\n",
    "    print(\"Welcome aboard!\")\n",
    "\n",
    "greet(\"Raphael\", \"Glück\")"
   ]
  },
  {
   "cell_type": "markdown",
   "id": "12b3787b",
   "metadata": {},
   "source": [
    "## **Return Functions** 🔙"
   ]
  },
  {
   "cell_type": "markdown",
   "id": "bd902a0a",
   "metadata": {},
   "source": [
    "> The keyword *`return`* stores a value after the function code has been executed"
   ]
  },
  {
   "cell_type": "code",
   "execution_count": null,
   "id": "06acbfd2",
   "metadata": {},
   "outputs": [],
   "source": [
    "def get_greeting(name):\n",
    "    return f\"HI, {name}\"               # is not printed when calling the function\n",
    "\n",
    "\n",
    "message = get_greeting(\"Raphael\")\n",
    "file = open(\"content.txt\", \"w\")\n",
    "file.write(message)                    # write output of the function into a file and create the file beforehand if not existent"
   ]
  },
  {
   "cell_type": "markdown",
   "id": "ac8dec20",
   "metadata": {},
   "source": [
    "> By printing a return function, you print its value.  \n",
    "> Functions that carry out a task, return *`None`* by default when printed:"
   ]
  },
  {
   "cell_type": "code",
   "execution_count": null,
   "id": "8a9ef0ee",
   "metadata": {},
   "outputs": [],
   "source": [
    "def greet(name) -> str:\n",
    "    print(f\"HI, {name}\")\n",
    "\n",
    "print(greet(\"Raphael\"))"
   ]
  },
  {
   "cell_type": "markdown",
   "id": "5fdb196d",
   "metadata": {},
   "source": [
    "## __Lambda functions__ 🪄"
   ]
  },
  {
   "cell_type": "markdown",
   "id": "6efeb6cb",
   "metadata": {},
   "source": [
    "> They are one-line-functions  \n",
    "> Tall them with *`lambda`* `parameter:`  \n",
    "> Then define the operation to execute upon the argument  "
   ]
  },
  {
   "cell_type": "code",
   "execution_count": null,
   "id": "c0202a63",
   "metadata": {},
   "outputs": [],
   "source": [
    "a = lambda x: x + 1\n",
    "print(a(10))\n",
    "\n",
    "last_name = lambda y: y + 2\n",
    "print(last_name(10))\n",
    "\n",
    "class_instantiation = lambda d,e: d + e\n",
    "print(class_instantiation(3,4))\n",
    "\n",
    "d = lambda x: 'hello' if x > 5 else 'bye'\n",
    "print(d(3))"
   ]
  },
  {
   "cell_type": "markdown",
   "id": "2877fbf1",
   "metadata": {},
   "source": [
    "## **Keyword Arguments** 🗝️"
   ]
  },
  {
   "cell_type": "markdown",
   "id": "34da6553",
   "metadata": {},
   "source": [
    "> They make code more readable.  \n",
    "In line 4, `by=` is not needed, but makes it easier to understand what the function does"
   ]
  },
  {
   "cell_type": "code",
   "execution_count": null,
   "id": "97be7afb",
   "metadata": {},
   "outputs": [],
   "source": [
    "def increment(number, by):\n",
    "    return number + by\n",
    "\n",
    "print(increment(2,by=1))"
   ]
  },
  {
   "cell_type": "markdown",
   "id": "4c0b5b18",
   "metadata": {},
   "source": [
    "## **Default Arguments** 🎯"
   ]
  },
  {
   "cell_type": "markdown",
   "id": "6745aaac",
   "metadata": {},
   "source": [
    "> Defining the value of a parameter When a function is defined, makes this value the default for the parameter.\n",
    "> Thereby, this argument is made optional when calling the function.  \n",
    "> To change the default value, you must insert a new value as an argument.  "
   ]
  },
  {
   "cell_type": "markdown",
   "id": "204b9f91",
   "metadata": {},
   "source": [
    "> Here, parameter `by` has been assigned the default value 1.  \n",
    "> Thereby, it is now optional. A new value must be assigned explicitly.   \n",
    "> Optional parameters have to be written __after__ the required ones! "
   ]
  },
  {
   "cell_type": "code",
   "execution_count": null,
   "id": "b0fea74d",
   "metadata": {},
   "outputs": [],
   "source": [
    "def increment(number, by=1):\n",
    "    return number + by\n",
    "\n",
    "print(increment(2))\n",
    "print(increment(5,3))"
   ]
  },
  {
   "cell_type": "markdown",
   "id": "d9ff81fb",
   "metadata": {},
   "source": [
    "## ***args** 👜"
   ]
  },
  {
   "cell_type": "markdown",
   "id": "174a7ef7",
   "metadata": {},
   "source": [
    "> If a paramenter `*arg` is defined in a function, an infinite amount of arguments can be provided when calling function:"
   ]
  },
  {
   "cell_type": "code",
   "execution_count": null,
   "id": "7c990950",
   "metadata": {},
   "outputs": [],
   "source": [
    "def multiply(*numbers):\n",
    "    total = 1\n",
    "    for number in numbers:\n",
    "        total *= number\n",
    "    return total\n",
    "\n",
    "multiply(2, 5, 10, 44)    "
   ]
  },
  {
   "cell_type": "code",
   "execution_count": null,
   "id": "11d59df3",
   "metadata": {},
   "outputs": [],
   "source": [
    "def get_sum(*numbers):\n",
    "    total = 0\n",
    "    for number in numbers:\n",
    "        total += number\n",
    "    return total\n",
    "\n",
    "get_sum(4,3,3)"
   ]
  },
  {
   "cell_type": "markdown",
   "id": "ec070afe",
   "metadata": {},
   "source": [
    "## ****kwargs** 🗂️"
   ]
  },
  {
   "cell_type": "markdown",
   "id": "8835b2d1",
   "metadata": {},
   "source": [
    "> *`**kwargs`* return dictionaries of unlimited length.  \n",
    "> 'kwargs' is merely a naming convention, the name may be chosen freely."
   ]
  },
  {
   "cell_type": "code",
   "execution_count": null,
   "id": "4f37269b",
   "metadata": {},
   "outputs": [],
   "source": [
    "def print_dicts(**args) -> dict:\n",
    "    print(args)\n",
    "    \n",
    "print_dicts(hans = 3, berta = 5, zwetschke = 2)"
   ]
  },
  {
   "cell_type": "code",
   "execution_count": null,
   "id": "2fe6f709",
   "metadata": {},
   "outputs": [],
   "source": [
    "dict_count = 0\n",
    "dict_storage = {}\n",
    "\n",
    "def dict_maker(**kwargs) -> dict:\n",
    "    global dict_count\n",
    "    dict_count += 1\n",
    "    dict_storage[dict_count] = kwargs\n",
    "    return kwargs\n",
    "\n",
    "dict_maker(Apples = 1, Bananas = 4, Cherries = 20)\n",
    "dict_maker(Apples=2, Bananas=5, Cherries=10)\n",
    "\n",
    "print(dict_storage[2]) # access dict within storage dict\n"
   ]
  },
  {
   "cell_type": "markdown",
   "id": "d85f499c",
   "metadata": {},
   "source": [
    "## __Functions as arguments for Functions__ 📼"
   ]
  },
  {
   "cell_type": "markdown",
   "id": "bba7df25",
   "metadata": {},
   "source": [
    "> = basically, lambdas or functions that are meant to be printed  "
   ]
  },
  {
   "cell_type": "markdown",
   "id": "a146dc53",
   "metadata": {},
   "source": [
    "### *`sorted()`* and *`sort()`* 🗃️"
   ]
  },
  {
   "cell_type": "code",
   "execution_count": null,
   "id": "efb8200a",
   "metadata": {},
   "outputs": [],
   "source": [
    "list1 = [1,2,3,4,5]\n",
    "print(sorted(list1, reverse = True))"
   ]
  },
  {
   "cell_type": "code",
   "execution_count": null,
   "id": "6a5cca14",
   "metadata": {},
   "outputs": [],
   "source": [
    "list2 = [('a', 2), ('b', 3), ('c', 1)]\n",
    "\n",
    "def sort_function(item):\n",
    "    return item[1]\n",
    "\n",
    "print(sorted(list2, key = sort_function))\n",
    "print(sorted(list2, key = lambda item: item[1])) # same, but with lambda (more convenient)"
   ]
  },
  {
   "cell_type": "markdown",
   "id": "4c427f9f",
   "metadata": {},
   "source": [
    "### *`map()`* (obsolete) 🚫"
   ]
  },
  {
   "cell_type": "code",
   "execution_count": null,
   "id": "8608a0f5",
   "metadata": {},
   "outputs": [],
   "source": [
    "list3 = [1,2,3,4,5]\n",
    "def power_function(num):\n",
    "    return num**2\n",
    "\n",
    "print(list(map(power_function,list3)))       # This works, but lambda is more convenient\n",
    "print(list(map(lambda num: num**2,list3)))   # List comprehensions are better still, so map()\n",
    "print([num**2 for num in list3])             # is rarely used"
   ]
  },
  {
   "cell_type": "markdown",
   "id": "5da3e5ee",
   "metadata": {},
   "source": [
    "### *`filter()`* (obsolete) 🚫"
   ]
  },
  {
   "cell_type": "code",
   "execution_count": null,
   "id": "83b7bb71",
   "metadata": {},
   "outputs": [],
   "source": [
    "print(list(filter(lambda num: num < 4, list3)))\n",
    "\n",
    "list4 = [0, 1, None, 'A']\n",
    "print(list(filter(lambda element: bool(element) is True, list4)))"
   ]
  },
  {
   "cell_type": "markdown",
   "id": "47a687a5",
   "metadata": {},
   "source": [
    "## __Decorators__ 🎀"
   ]
  },
  {
   "cell_type": "markdown",
   "id": "253ea500",
   "metadata": {},
   "source": [
    "> Decorators allow you to execute code before and after a function (or execute the function twice etc.)   \n",
    "> They may also be used in classes to execute code, when an attribute is called, changed or deleted (advanced)"
   ]
  },
  {
   "cell_type": "code",
   "execution_count": null,
   "id": "1d4acef6",
   "metadata": {},
   "outputs": [],
   "source": [
    "def func():\n",
    "    print('function')\n",
    "\n",
    "def wrapper(func):\n",
    "    print('hello')\n",
    "    func()\n",
    "    print('goodbye')\n",
    "\n",
    "def function_generator():\n",
    "    def new_function():\n",
    "        print('New function')\n",
    "    return new_function\n",
    "\n",
    "func()\n",
    "\n",
    "wrapper(func)\n",
    "\n",
    "new_func = function_generator()\n",
    "new_func()"
   ]
  },
  {
   "cell_type": "code",
   "execution_count": null,
   "id": "c65a01f5",
   "metadata": {},
   "outputs": [],
   "source": [
    "import time\n",
    "\n",
    "def decorator(func):\n",
    "    def wrapper():\n",
    "        print('decoration begins')\n",
    "        func()\n",
    "        print('decoration ends')\n",
    "    return wrapper\n",
    "\n",
    "def duration_decorator(func):\n",
    "    def wrapper():\n",
    "        start_time = time.time()\n",
    "        func()\n",
    "        duration = time.time() - start_time\n",
    "        print(f'duration {duration}')\n",
    "    return wrapper\n",
    "\n",
    "def double_decorator(func):\n",
    "    def wrapper():\n",
    "        func()\n",
    "        func()\n",
    "    return wrapper\n",
    "\n",
    "@double_decorator\n",
    "@decorator\n",
    "@duration_decorator\n",
    "def func():\n",
    "    print('Function')\n",
    "    time.sleep(1)\n",
    "\n",
    "func()"
   ]
  },
  {
   "cell_type": "markdown",
   "id": "87150e54",
   "metadata": {},
   "source": [
    "---  \n",
    "# <div style=\"margin-left:535px\">__<span style=\"color:#970EC7\">**Classes**</spna>__</div>"
   ]
  },
  {
   "cell_type": "markdown",
   "id": "f8702b59",
   "metadata": {},
   "source": [
    "> Classes are used to define new types/objects.  \n",
    "> Identifiers of classes are written in Pascal (= CapitalizeEachNewWord).  \n",
    "> They contain methods and attributes.  \n",
    "> Use `dir()` for information on an object!"
   ]
  },
  {
   "cell_type": "code",
   "execution_count": null,
   "id": "1185d877",
   "metadata": {},
   "outputs": [],
   "source": [
    "class Point:\n",
    "    def move(self):\n",
    "        print(\"move\")\n",
    "\n",
    "    def draw(self):\n",
    "        print(\"draw\")\n",
    "\n",
    "point1 = Point()\n",
    "point1.x = 10\n",
    "point1.y = 20\n",
    "print(point1.x)\n",
    "point1.draw()"
   ]
  },
  {
   "cell_type": "markdown",
   "id": "f383d6f7",
   "metadata": {},
   "source": [
    "> Attributes (= variables defined in a class) have global scope, because the object itself is always passed as an argument (= self) when calling a method.  "
   ]
  },
  {
   "cell_type": "code",
   "execution_count": null,
   "id": "806900fe",
   "metadata": {},
   "outputs": [],
   "source": [
    "class Monster:\n",
    "    health = 90\n",
    "    energy = 40\n",
    "\n",
    "    def attack(self,amount):\n",
    "        print('The monster has attacked!')\n",
    "        print(f'{amount} damage was dealt')\n",
    "        self.energy -= 20\n",
    "        print(f'{self.energy} energy remains')\n",
    "\n",
    "    def move(self,speed):\n",
    "        print('Monster has moved')\n",
    "        print(f'Monster has speed of {speed}')\n",
    "\n",
    "monster1 = Monster()\n",
    "monster1.attack(40)\n",
    "monster1.move(30)"
   ]
  },
  {
   "cell_type": "markdown",
   "id": "6866da13",
   "metadata": {},
   "source": [
    "## __Class Variables vs. Attributes__ ⚖️"
   ]
  },
  {
   "cell_type": "markdown",
   "id": "9a753b99",
   "metadata": {},
   "source": [
    "> Changes to a class variable affect all instances of a class, whilst attributes function independently for every object of the same class:  "
   ]
  },
  {
   "cell_type": "code",
   "execution_count": null,
   "id": "5ec9dbd5",
   "metadata": {},
   "outputs": [],
   "source": [
    "class SomeClass:\n",
    "    shared = ['unchanged']           # class variable\n",
    "\n",
    "    def __init__(self):\n",
    "        self.unique = ['unchanged']  # instance variable\n",
    "\n",
    "some_instance = SomeClass()\n",
    "other_instance = SomeClass()\n",
    "\n",
    "some_instance.shared.append('false') # this will affect all instances\n",
    "some_instance.unique.append('false') # this will only affect this instance\n",
    "\n",
    "print(other_instance.shared)\n",
    "print(other_instance.unique)"
   ]
  },
  {
   "cell_type": "markdown",
   "id": "8da75527",
   "metadata": {},
   "source": [
    "## __Dunder Methods__ ⚙️"
   ]
  },
  {
   "cell_type": "markdown",
   "id": "f14b5b1a",
   "metadata": {},
   "source": [
    "> Also called 'Magic Methods', they are methods enclosed by double underscore: *\\_\\_dunder\\_\\_*  \n",
    "> They are called in unique ways. "
   ]
  },
  {
   "cell_type": "markdown",
   "id": "cee3d5e4",
   "metadata": {},
   "source": [
    "### Constructors 🏗️"
   ]
  },
  {
   "cell_type": "markdown",
   "id": "b49c2386",
   "metadata": {},
   "source": [
    "= `__init__`\n",
    "> They are functions, called at the time of creating an object  \n",
    "> Here, attributes of an object are defined.   \n",
    "> *`def`* `_init_(self, parameter1, parameter2):`  \n",
    "> `self.parameter1 = parameter1`   \n",
    "> `self.paramter2 = parameter2`  \n",
    "> Attributes of an object can later be altered.  "
   ]
  },
  {
   "cell_type": "code",
   "execution_count": null,
   "id": "a5915946",
   "metadata": {},
   "outputs": [],
   "source": [
    "class Point:\n",
    "    def __init__(self, x, y):\n",
    "        self.x = x\n",
    "        self.y = y\n",
    "\n",
    "    def move(self):\n",
    "        print(\"move\")\n",
    "\n",
    "    def draw(self):\n",
    "        print(\"draw\")\n",
    "\n",
    "point1 = Point(10,20)\n",
    "print(point1.x)\n",
    "\n",
    "point1.x = 14\n",
    "print(point1.x)"
   ]
  },
  {
   "cell_type": "markdown",
   "id": "ef1afae4",
   "metadata": {},
   "source": [
    "### Other Dunder Methods 🔧"
   ]
  },
  {
   "cell_type": "markdown",
   "id": "3d914b2d",
   "metadata": {},
   "source": [
    "> - `__len__`  \n",
    "> - `__abs__`  \n",
    "> - `__call__`  \n",
    "> - `__add__`  "
   ]
  },
  {
   "cell_type": "code",
   "execution_count": null,
   "id": "5c554004",
   "metadata": {},
   "outputs": [],
   "source": [
    "class Monster:\n",
    "\n",
    "    def __init__(self,health,energy):\n",
    "        print('The monster was created')\n",
    "        self.health = health\n",
    "        self.energy = energy\n",
    "\n",
    "    def __len__(self):          # ?\n",
    "        return self.health\n",
    "    \n",
    "    def __abs__(self):          # ?\n",
    "        return self.energy\n",
    "    \n",
    "    def __call__(self):         # can be used with object()\n",
    "        print('The monster was called')\n",
    "\n",
    "    def __add__(self, number):\n",
    "        return self.health + number\n",
    "\n",
    "    def attack(self,amount):\n",
    "        print('The monster has attacked!')\n",
    "        print(f'{amount} damage was dealt')\n",
    "        self.energy -= 20\n",
    "        print(f'{self.energy} energy remains')\n",
    "\n",
    "    def move(self,speed):\n",
    "        print('Monster has moved')\n",
    "        print(f'Monster has speed of {speed}')\n",
    "\n",
    "    def __str__(self):\n",
    "        return f'A monster with health {self.health} and energy {self.energy}'\n",
    "\n",
    "monster1 = Monster(10,20) # The init method is called right here!\n",
    "monster2 = Monster(30,60) # The init method is called right here!\n",
    "\n",
    "print(monster1.health)\n",
    "# =\n",
    "print(len(monster1))\n",
    "\n",
    "print(abs(monster1))\n",
    "\n",
    "monster2.attack(20)\n",
    "\n",
    "print(monster1.__dict__) # shows all acttributes with values as dictionary\n",
    "print(vars(monster2))    # does the same\n",
    "monster1()\n",
    "print(monster1 + 55)\n",
    "print(monster1)"
   ]
  },
  {
   "cell_type": "markdown",
   "id": "bee1ae4e",
   "metadata": {},
   "source": [
    "## __Classes help to organize code__ 🗄️"
   ]
  },
  {
   "cell_type": "code",
   "execution_count": null,
   "id": "93810472",
   "metadata": {},
   "outputs": [],
   "source": [
    "class Monster:\n",
    "    def __init__(self, func):\n",
    "        self.func = func\n",
    "\n",
    "class Attack:\n",
    "    def bite(self):\n",
    "        print('bite')\n",
    "\n",
    "    def strike(self):\n",
    "        print('strike')\n",
    "\n",
    "    def slash(self):\n",
    "        print('slash')\n",
    "    \n",
    "    def kick(self):\n",
    "        print('kick')\n",
    "\n",
    "monster3 = Monster(Attack().bite)\n",
    "monster3.func()\n"
   ]
  },
  {
   "cell_type": "code",
   "execution_count": null,
   "id": "b8155d40",
   "metadata": {},
   "outputs": [],
   "source": [
    "class Monster:\n",
    "    def __init__(self,health,energy):\n",
    "        self.health = health\n",
    "        self.energy = energy\n",
    "\n",
    "    def update_energy(self,amount):\n",
    "        self.energy += amount\n",
    "\n",
    "    def get_damage(self,amount):\n",
    "        self.health -= amount\n",
    "\n",
    "class Hero:\n",
    "    def __init__(self,damage,monster):\n",
    "        self.damage = damage\n",
    "        self.monster = monster4\n",
    "\n",
    "    def attack(self):\n",
    "        self.monster.get_damage(self.damage)\n",
    "\n",
    "monster4 = Monster(health=100,energy=50)\n",
    "hero = Hero(damage=15,monster=monster4)\n",
    "\n",
    "print(monster4.health)\n",
    "hero.attack()\n",
    "print(monster4.health)"
   ]
  },
  {
   "cell_type": "markdown",
   "id": "6af2e84f",
   "metadata": {},
   "source": [
    "## __Inheritance__ 🧬"
   ]
  },
  {
   "cell_type": "markdown",
   "id": "1cfad3b7",
   "metadata": {},
   "source": [
    "> A parent class' methods and attributes that are inherited by child classes by calling the parent class in parentesis:  \n",
    "> *`Class`* `ChildClass(ParentClass):`  \n",
    "> \n",
    "> *`pass`* tells Python to skip the line.    \n",
    "> Otherwise the class Dog would be empty and therefore not unique from Mammal  "
   ]
  },
  {
   "cell_type": "code",
   "execution_count": null,
   "id": "fa50d9c8",
   "metadata": {},
   "outputs": [],
   "source": [
    "class Mammal:\n",
    "    def walk(self):\n",
    "        print(\"walk\")\n",
    "\n",
    "\n",
    "class Dog(Mammal):\n",
    "    pass\n",
    "\n",
    "\n",
    "class Cat(Mammal):\n",
    "    def miau(self):\n",
    "        print(\"miau\")\n",
    "\n",
    "\n",
    "dog1 = Dog()\n",
    "dog1.walk()\n",
    "cat1 = Cat()\n",
    "cat1.miau()"
   ]
  },
  {
   "cell_type": "markdown",
   "id": "3a24fd47",
   "metadata": {},
   "source": [
    "> Methods of the parent class can be overwritten by defining a method with the same name in the child class.  \n",
    "> `super()` is a way to call a method from a parent from within a child. It is often used inside overridden methods so the child can extend, not replace, the parent’s behavior."
   ]
  },
  {
   "cell_type": "code",
   "execution_count": null,
   "id": "2121a143",
   "metadata": {},
   "outputs": [],
   "source": [
    "class Monster:\n",
    "    def __init__(self,health,energy):\n",
    "        self.health = health\n",
    "        self.energy = energy\n",
    "\n",
    "    def attack(self,amount):\n",
    "        print('The monster has attacked!')\n",
    "        print(f'{amount} damage was dealt')\n",
    "        self.energy -= 20\n",
    "        print(f'{self.energy} energy remains')\n",
    "\n",
    "    def move(self,speed):\n",
    "        print('Monster has moved')\n",
    "        print(f'Monster has speed of {speed}')\n",
    "\n",
    "class Shark(Monster):\n",
    "    def __init__(self,speed,health,energy):\n",
    "        super().__init__(health,energy)         # everything under init from Monster class is inserted here\n",
    "        self.speed = speed\n",
    "\n",
    "    def bite(self):\n",
    "        print('The shark has bitten')\n",
    "\n",
    "    def move(self):\n",
    "        print('The shark has moved')\n",
    "        print(f'The speed of the shark is {self.speed}')\n",
    "\n",
    "class Scorpion(Monster):\n",
    "    def __init__(self,scorpion_health,scorpion_energy,poison_damage):\n",
    "        super().__init__(health=scorpion_health,energy=scorpion_energy)\n",
    "        self.poison_damage = poison_damage\n",
    "\n",
    "    def attack(self):\n",
    "        print(f'The scorpion dealt {self.poison_damage} poison damage')\n",
    "        self.energy -= 20\n",
    "\n",
    "shark = Shark(speed=120,health=100,energy=80)\n",
    "scorpion = Scorpion(scorpion_health=20,scorpion_energy=80,poison_damage=50)\n",
    "print(shark.energy)\n",
    "\n",
    "shark.attack(20)\n",
    "\n",
    "shark.move()\n",
    "\n",
    "print(shark.health)\n",
    "\n",
    "scorpion.attack()\n",
    "\n",
    "print(scorpion.energy)\n",
    "\n",
    "scorpion.move(10)"
   ]
  },
  {
   "cell_type": "markdown",
   "id": "fb8073a8",
   "metadata": {},
   "source": [
    "### Complex Inheritance 🕸️"
   ]
  },
  {
   "cell_type": "markdown",
   "id": "e759d6dd",
   "metadata": {},
   "source": [
    "> Complex inheritance is when a child class inherits from multiple parent classes.  \n",
    "> \n",
    "> `super()` inserts parts of parent classes into child classes. If a child inherits from two parents, the order in which the insertions of the two parents is called in the child class, is decided by the __MRO__ = method resolution order.  \n",
    "> This is the order in which the parent classes are organized when defining the child class matters!  \n",
    "> e.g. `Shark(Monster,Fish)` -> Monster #1; Fish #2\n",
    "> \n",
    "> Basically, you want to add `super().__init__()` to every class involved in inharitance  \n",
    "> Adding ***kwargs* as a parameter makes complex inheritance work with differing amounts of parameters between classes"
   ]
  },
  {
   "cell_type": "code",
   "execution_count": null,
   "id": "503c3e03",
   "metadata": {},
   "outputs": [],
   "source": [
    "class Monster:\n",
    "    def __init__(self,health,energy,**kwargs):\n",
    "        self.health = health\n",
    "        self.energy = energy\n",
    "        super().__init__(**kwargs)                      # this is relevant for the shark class later!\n",
    "\n",
    "    def attack(self,amount):\n",
    "        print('The monster has attacked!')\n",
    "        print(f'{amount} damage was dealt')\n",
    "        self.energy -= 20\n",
    "        print(f'{self.energy} energy remains')\n",
    "\n",
    "    def move(self,speed):\n",
    "        print('Monster has moved')\n",
    "        print(f'Monster has speed of {speed}')\n",
    "    \n",
    "class Fish:\n",
    "    def __init__(self,speed,has_scales,**kwargs):\n",
    "        self.speed = speed\n",
    "        self.has_scales = has_scales\n",
    "        super().__init__()\n",
    "\n",
    "    def swim(self):\n",
    "        print(f'The fish is swimming at speed of {self.speed}')\n",
    "\n",
    "class Shark(Monster, Fish):                             # This decides the MRO: Monster first, Fish second\n",
    "    def __init__(self,bite_strength,health,energy,speed,has_scales,**kwargs):\n",
    "        self.bite_strength = bite_strength\n",
    "        super().__init__(health=health,energy=energy,speed=speed,has_scales=has_scales) # this regards the Monster call -> MRO!\n",
    "\n",
    "shark = Shark(bite_strength=50,health=200,energy=55,speed=120,has_scales=False)\n",
    "\n",
    "shark.attack(10)\n",
    "\n",
    "print(shark.has_scales)\n",
    "\n",
    "print(shark.speed)"
   ]
  },
  {
   "cell_type": "markdown",
   "id": "4baa7453",
   "metadata": {},
   "source": [
    "## __Extras for Classes__ 🏛️"
   ]
  },
  {
   "cell_type": "markdown",
   "id": "7066172f",
   "metadata": {},
   "source": [
    "### Private Attributes/Methods 🔐"
   ]
  },
  {
   "cell_type": "markdown",
   "id": "8cb6105c",
   "metadata": {},
   "source": [
    "> This merely concerns conventional nomenclature and communicates something about your code to others!  \n",
    "> Private attributes/methods are declared to not be changed outside of a class.   \n",
    "> By convention, they are preceded by underscore.  "
   ]
  },
  {
   "cell_type": "code",
   "execution_count": null,
   "id": "48e31715",
   "metadata": {},
   "outputs": [],
   "source": [
    "class Class:\n",
    "    '''Here, you can decribe what this class is about. Call this with 'object.__doc__\\''''\n",
    "    def __init__(self):\n",
    "        self._id = 5        # can still be changed, but you communicate that it should not!\n",
    "\n",
    "object = Class()\n",
    "print(object._id)"
   ]
  },
  {
   "cell_type": "markdown",
   "id": "3c8e2410",
   "metadata": {},
   "source": [
    "### `hasattr()` 🔍 and `setattr()` 🖊️"
   ]
  },
  {
   "cell_type": "markdown",
   "id": "8ae83602",
   "metadata": {},
   "source": [
    "> `hasattr()` checks, if a class has an attribute.  \n",
    "> `setattr()` changes the value of an attribute."
   ]
  },
  {
   "cell_type": "code",
   "execution_count": null,
   "id": "e7a13de2",
   "metadata": {},
   "outputs": [],
   "source": [
    "print(hasattr(monster1,'health'))\n",
    "\n",
    "setattr(monster1,'weapon', 'Sword') # basically: monster.weapon = 'Sword'\n",
    "print(monster1.weapon)\n",
    "\n",
    "new_attributes = (['weapon', 'Axe'],['armor','Shield'])\n",
    "for attr,value in new_attributes:\n",
    "    setattr(monster1,attr,value)\n",
    "    \n",
    "print(vars(monster1))"
   ]
  },
  {
   "cell_type": "markdown",
   "id": "00b605c2",
   "metadata": {},
   "source": [
    "### `.__doc__` and `help()` 🆘"
   ]
  },
  {
   "cell_type": "markdown",
   "id": "98087881",
   "metadata": {},
   "source": [
    "> `.__doc__` calls the description you wrote in your class.  \n",
    "> When creating a class, you add a description `'''like this'''`"
   ]
  },
  {
   "cell_type": "code",
   "execution_count": null,
   "id": "ec0e0690",
   "metadata": {},
   "outputs": [],
   "source": [
    "print(object.__doc__)"
   ]
  },
  {
   "cell_type": "markdown",
   "id": "7ec89f35",
   "metadata": {},
   "source": [
    "> `help()` is a useful alternative, although it is very descriptive:  "
   ]
  },
  {
   "cell_type": "code",
   "execution_count": null,
   "id": "67a73bb6",
   "metadata": {},
   "outputs": [],
   "source": [
    "help(monster1)"
   ]
  },
  {
   "cell_type": "markdown",
   "id": "cc5d23d4",
   "metadata": {},
   "source": [
    "---  \n",
    "# <div style=\"margin-left:522px\">__<span style=\"color:#DE8B16\">**Modules**</spna>__</div>"
   ]
  },
  {
   "cell_type": "markdown",
   "id": "faefa8dd",
   "metadata": {},
   "source": [
    "> Important Modules of the Standard Library:\n",
    "> - time \n",
    "> - random\n",
    "> - math\n",
    "> - os\n",
    "> - datetime\n",
    "> - typing\n",
    "> - secrets\n",
    "> - pathlib\n",
    "> - pdb"
   ]
  },
  {
   "cell_type": "markdown",
   "id": "6246ede2",
   "metadata": {},
   "source": [
    "> Important external Modules:\n",
    "> - pygame\n",
    "> - matplotlib\n",
    "> - pandas\n",
    "> - seaborn"
   ]
  },
  {
   "cell_type": "markdown",
   "id": "f33df883",
   "metadata": {},
   "source": [
    "## __Intro__ 🚪"
   ]
  },
  {
   "cell_type": "markdown",
   "id": "5011eb4f",
   "metadata": {},
   "source": [
    "> Modules are files that contain code, typically Classes and Functions.  \n",
    "> These can be called in another file by *`import`* `module`  \n",
    "> You may also *`import`* `module` *`as`* `WhateverNameYouWant`  \n",
    "> Modules of the Standard Library may be imported in this way.  \n",
    "> External Modules have to be installed first.  "
   ]
  },
  {
   "cell_type": "markdown",
   "id": "e4518a6d",
   "metadata": {},
   "source": [
    "> Import all methods whithout having to precede every method with the name of the module:    \n",
    "> *`from`* `module` *`import`* `*` "
   ]
  },
  {
   "cell_type": "code",
   "execution_count": null,
   "id": "fc7c0c70",
   "metadata": {},
   "outputs": [],
   "source": [
    "import string\n",
    "from random import * # be careful as a lot of potential variable names get occupied by methods\n",
    "import math as m\n",
    "\n",
    "print(string.capwords('hi, how are you?'))\n",
    "print(randint(2,56))\n",
    "print(m.cos(0))"
   ]
  },
  {
   "cell_type": "markdown",
   "id": "46e1c87e",
   "metadata": {},
   "source": [
    "### __Creating your own Module__ 🧰"
   ]
  },
  {
   "cell_type": "code",
   "execution_count": null,
   "id": "63aaf607",
   "metadata": {},
   "outputs": [],
   "source": [
    "# file named utils.py = module\n",
    "def find_max(numbers):\n",
    "    max = numbers[0]\n",
    "    for number in numbers:\n",
    "        if number > max:\n",
    "            max = number\n",
    "    return max"
   ]
  },
  {
   "cell_type": "code",
   "execution_count": null,
   "id": "09a1ddf2",
   "metadata": {},
   "outputs": [],
   "source": [
    "# in another file, that module is imported:\n",
    "import utils                                                    # type: ignore\n",
    "\n",
    "numbers = [10,3,6,2]\n",
    "print(utils.find_max(numbers))"
   ]
  },
  {
   "cell_type": "markdown",
   "id": "99b64dc1",
   "metadata": {},
   "source": [
    "### __Packages__ 📦"
   ]
  },
  {
   "cell_type": "markdown",
   "id": "0bc8f02e",
   "metadata": {},
   "source": [
    "> A Library contains multiple packages.  \n",
    "> Packages are folders containing multiple modules.  \n",
    "> They are initialized by containing a file named *\\__init\\__.py*    \n",
    "> When importing a local package, you have to include the parent folder in the packagename:  \n",
    "> *`from`* `parent_directory.package` *`import`* `module`  "
   ]
  },
  {
   "cell_type": "markdown",
   "id": "d584a9dc",
   "metadata": {},
   "source": [
    "## __Time__ 🕒"
   ]
  },
  {
   "cell_type": "code",
   "execution_count": null,
   "id": "812c5f18",
   "metadata": {},
   "outputs": [],
   "source": [
    "import time\n",
    "print('HEEEY')\n",
    "time.sleep(1)\n",
    "print('How are you?')\n",
    "for i in range(5):\n",
    "    time.sleep(1)\n",
    "    print(i)"
   ]
  },
  {
   "cell_type": "markdown",
   "id": "c8dbd780",
   "metadata": {},
   "source": [
    "## __Matplotlib__ 📊"
   ]
  },
  {
   "cell_type": "code",
   "execution_count": null,
   "id": "45ea9f7e",
   "metadata": {},
   "outputs": [],
   "source": [
    "import matplotlib.pyplot as plt\n",
    "\n",
    "plt.plot([1,2,3,4,22,0,100])\n",
    "plt.ylabel('some numbers for y-axis')\n",
    "plt.show()"
   ]
  },
  {
   "cell_type": "markdown",
   "id": "91c69aad",
   "metadata": {},
   "source": [
    "---\n",
    "# <div style=\"margin-left:530px\"><span style=\"color:#C3C3F7\">__Utilities__</span></div>"
   ]
  },
  {
   "cell_type": "markdown",
   "id": "9282e057",
   "metadata": {},
   "source": [
    "## __Comments__ 💬"
   ]
  },
  {
   "cell_type": "code",
   "execution_count": null,
   "id": "560e6317",
   "metadata": {},
   "outputs": [],
   "source": [
    "# Comments start with hashtag. They will not be executed\n",
    "'you can use strings as well'\n",
    "\n",
    "text = '''You can use triple quotes for multi-line comments.\n",
    "They can also be used for multi-line strings,\n",
    "which is useful for longer text blocks.'''\n",
    "print(text)"
   ]
  },
  {
   "cell_type": "markdown",
   "id": "faecedf3",
   "metadata": {},
   "source": [
    "## __Exceptions__ ⚠️"
   ]
  },
  {
   "cell_type": "markdown",
   "id": "2207cd26",
   "metadata": {},
   "source": [
    "> Exceptions are used for Error Handling  \n",
    "> Error messages can be defined at will  \n",
    "> Any Error can be called with the keyword `raise`"
   ]
  },
  {
   "cell_type": "code",
   "execution_count": null,
   "id": "0efe7011",
   "metadata": {},
   "outputs": [],
   "source": [
    "try:\n",
    "    age = int(input('Age: '))\n",
    "    income = 2000\n",
    "    risk = income / age\n",
    "    print (age)\n",
    "\n",
    "except ZeroDivisionError:\n",
    "    print('Age cannot be 0')\n",
    "except ValueError:\n",
    "    print('Invalid value')"
   ]
  },
  {
   "cell_type": "code",
   "execution_count": null,
   "id": "9936badc",
   "metadata": {},
   "outputs": [],
   "source": [
    "raise NameError"
   ]
  },
  {
   "cell_type": "markdown",
   "id": "b0d1739c",
   "metadata": {},
   "source": [
    "## __Multiple-Line Statements__ ↩️"
   ]
  },
  {
   "cell_type": "markdown",
   "id": "07a43048",
   "metadata": {},
   "source": [
    "> 1. `;` will execute the code on a new line  \n",
    "> 2. `\\`  continues an operation for you on the next "
   ]
  },
  {
   "cell_type": "code",
   "execution_count": null,
   "id": "db23b68c",
   "metadata": {},
   "outputs": [],
   "source": [
    "print('Hey'); print('Wie gehts!'); print('This is getting to long..')   # 1. Semicolon\n",
    "addition:int = 1 + 2 + 5 + 7 + 5 \\\n",
    "+ 6 + 100                                                               # 2. Backslash\n",
    "print(addition)"
   ]
  },
  {
   "cell_type": "markdown",
   "id": "68a00e45",
   "metadata": {},
   "source": [
    "## __One-Liners__ ➖"
   ]
  },
  {
   "cell_type": "markdown",
   "id": "67181fb9",
   "metadata": {},
   "source": [
    "> Reverse an iterable:"
   ]
  },
  {
   "cell_type": "code",
   "execution_count": null,
   "id": "6b9f834a",
   "metadata": {},
   "outputs": [],
   "source": [
    "phrase: str = '54321'\n",
    "print(phrase[::-1])"
   ]
  },
  {
   "cell_type": "markdown",
   "id": "4d6ce8f1",
   "metadata": {},
   "source": [
    "> Ternary operators:"
   ]
  },
  {
   "cell_type": "code",
   "execution_count": null,
   "id": "85259854",
   "metadata": {},
   "outputs": [],
   "source": [
    "def valid_length(user_input: str) -> str:\n",
    "    return 'Yes' if len(user_input) > 10 else 'No' # ternary operator\n",
    "\n",
    "valid_length('Heyyyyyyyyyy')"
   ]
  },
  {
   "cell_type": "markdown",
   "id": "ce6c677f",
   "metadata": {},
   "source": [
    "> Flatten Lists (i.e. resolve sublists)"
   ]
  },
  {
   "cell_type": "code",
   "execution_count": null,
   "id": "952d19c4",
   "metadata": {},
   "outputs": [],
   "source": [
    "flatten = lambda target_list: sum((flatten(sublist) if isinstance(sublist, list) else [sublist] for sublist in target_list), [])\n",
    "\n",
    "nested_list = [1, [2, [3, 4], 5, ['A', 7], 8, [[[9]]]]]\n",
    "\n",
    "flatten(nested_list)"
   ]
  },
  {
   "cell_type": "markdown",
   "id": "232d40ff",
   "metadata": {},
   "source": [
    "## __Walrus operator__ 🦭"
   ]
  },
  {
   "cell_type": "markdown",
   "id": "d39123b1",
   "metadata": {},
   "source": [
    "> assigns a value to a variable, while enabling it to be part of a larger expression"
   ]
  },
  {
   "cell_type": "code",
   "execution_count": null,
   "id": "48aac204",
   "metadata": {},
   "outputs": [],
   "source": [
    "print(happy := True) # assigns and returns the value\n",
    "type(happy)\n",
    "\n",
    "foods = list()\n",
    "while (food := input('What food do you like? ')) != 'quit':\n",
    "    foods.append(food)\n",
    "print(foods)"
   ]
  },
  {
   "cell_type": "markdown",
   "id": "5d3c9498",
   "metadata": {},
   "source": [
    "## __Keyword *`yield`*__ 📤"
   ]
  },
  {
   "cell_type": "markdown",
   "id": "80deb866",
   "metadata": {},
   "source": [
    "> Returns values from a function 'lazily'  \n",
    "> With each time you call *`next()`*, the next yield value is returned "
   ]
  },
  {
   "cell_type": "code",
   "execution_count": null,
   "id": "7a1041cd",
   "metadata": {},
   "outputs": [],
   "source": [
    "def yielder():\n",
    "    yield 1\n",
    "    yield 2\n",
    "    yield 3\n",
    "    return 99\n",
    "\n",
    "print(next(yielder()))\n",
    "\n",
    "for value in yielder():\n",
    "    print(value)"
   ]
  },
  {
   "cell_type": "markdown",
   "id": "f0bfc463",
   "metadata": {},
   "source": [
    "## __Breakpoints__ ⛓️‍💥"
   ]
  },
  {
   "cell_type": "markdown",
   "id": "03d7c64a",
   "metadata": {},
   "source": [
    "> A breakpoint pauses the execution of your code at a specific line, allowing you to inspect the current state of your program, including variable values and the flow of execution.\n",
    "> It will give you an interactive prompt in the terminal"
   ]
  },
  {
   "cell_type": "code",
   "execution_count": null,
   "id": "98323e4a",
   "metadata": {},
   "outputs": [],
   "source": [
    "import pdb\n",
    "\n",
    "for i in range(5):\n",
    "    print(i)\n",
    "    if i == 2:\n",
    "        pdb.set_trace()  # breakpoint here; type 'c' to continue\n",
    "print('This is after the breakpoint')"
   ]
  },
  {
   "cell_type": "markdown",
   "id": "c8018eb0",
   "metadata": {},
   "source": [
    "## __Methods__ 🔨"
   ]
  },
  {
   "cell_type": "markdown",
   "id": "981cd4d3",
   "metadata": {},
   "source": [
    "### __`input()`__ ⌨"
   ]
  },
  {
   "cell_type": "markdown",
   "id": "e1269ed6",
   "metadata": {},
   "source": [
    "> `input()` usually provides a string  \n",
    "> ==> convert it, to get an integer/float/etc.  \n",
    ">\n",
    "> Input instruction can be edited: `input(\"Enter a number: \")`"
   ]
  },
  {
   "cell_type": "code",
   "execution_count": null,
   "id": "5899b458",
   "metadata": {},
   "outputs": [],
   "source": [
    "input_number1:str = input(\"Enter a number: \")\n",
    "print(input_number1 + ' is a string')\n",
    "input_number2:int = int(input(\"Enter a number: \"))\n",
    "print(str(input_number2 * 2) + ' is a number')"
   ]
  },
  {
   "cell_type": "markdown",
   "id": "2ad39fdd",
   "metadata": {},
   "source": [
    "### __`eval()` and `exec()`__ ☢️"
   ]
  },
  {
   "cell_type": "markdown",
   "id": "17920996",
   "metadata": {},
   "source": [
    "> performe math operations, create variables from strings and much more. (can be unsafe)"
   ]
  },
  {
   "cell_type": "code",
   "execution_count": null,
   "id": "a9baa296",
   "metadata": {},
   "outputs": [],
   "source": [
    "print(eval('1+1'))\n",
    "exec('a = 10')\n",
    "print(a)\n",
    "\n",
    "my_string = 'test'\n",
    "for operation in ['upper', 'title', 'lower', 'casefold']:\n",
    "    print(eval(f'my_string.{operation}()'))"
   ]
  },
  {
   "cell_type": "markdown",
   "id": "facb36a2",
   "metadata": {},
   "source": [
    "### __`''.join()`__ 🫂"
   ]
  },
  {
   "cell_type": "markdown",
   "id": "e30c0319",
   "metadata": {},
   "source": [
    "> The `join()` method takes all items of an iterable and joins them into one string, separated by a specified f-string/string.  \n",
    "> Syntax:  \n",
    "> `string.join(iterable)`"
   ]
  },
  {
   "cell_type": "code",
   "execution_count": null,
   "id": "ae633119",
   "metadata": {},
   "outputs": [],
   "source": [
    "myTuple = (\"John\", \"Peter\", \"Vicky\")\n",
    "\n",
    "x = \" and \".join(myTuple)\n",
    "\n",
    "print(x)"
   ]
  },
  {
   "cell_type": "code",
   "execution_count": null,
   "id": "7b669ae2",
   "metadata": {},
   "outputs": [],
   "source": [
    "myDict = {\"name\": \"John\", \"country\": \"Norway\"}\n",
    "mySeparator = ','\n",
    "\n",
    "y = mySeparator.join(myDict)\n",
    "\n",
    "print(y)"
   ]
  },
  {
   "cell_type": "markdown",
   "id": "070ffeef",
   "metadata": {},
   "source": [
    "## __Command line arguments__ 💻"
   ]
  },
  {
   "cell_type": "markdown",
   "id": "63529048",
   "metadata": {},
   "source": [
    "> Can be used to give input as arguments for a program. (can't be used in notebook)  \n",
    "> Execute a program by writing in terminal: *file.py arg1 arg2 arg3*  \n",
    "> *file.py* will then run its code with the given arguments."
   ]
  },
  {
   "cell_type": "code",
   "execution_count": null,
   "id": "9ef8c0a4",
   "metadata": {},
   "outputs": [],
   "source": [
    "# do not run this cell, this is what the file com_line.py would contain\n",
    "from sys import argv\n",
    "\n",
    "dna = argv[1]\n",
    "x = int(argv[2]) - 1\n",
    "first_name = int(argv[3]) - 3\n",
    "lists_tuple = int(argv[4])\n",
    "\n",
    "print(dna[x])\n",
    "print(dna[first_name:lists_tuple])\n",
    "\n",
    "# 4 args are given in the terminal: dna, x, a, e\n",
    "# the program will print the x-th base of the dna sequence\n",
    "# as well as all bases starting two positions before a until e"
   ]
  },
  {
   "cell_type": "markdown",
   "id": "f0698acc",
   "metadata": {},
   "source": [
    "> You then execute this file in the terminal (with the right path and wiht python inster of %run)"
   ]
  },
  {
   "cell_type": "code",
   "execution_count": null,
   "id": "ed1d9409",
   "metadata": {},
   "outputs": [],
   "source": [
    "%run Python/exercises/com_line.py AATTAAGGGTTAA 1 5 9 # different here, as %run has index 1 and path has index 2"
   ]
  },
  {
   "cell_type": "markdown",
   "id": "9d14e169",
   "metadata": {},
   "source": [
    "---\n",
    "# __<div style=\"margin-left:520px\"> <span style=\"color:mediumseagreen\">Exercises</span></div>__"
   ]
  },
  {
   "cell_type": "markdown",
   "id": "d7985cb5",
   "metadata": {},
   "source": [
    "## __Multiplier__ 🧮\n"
   ]
  },
  {
   "cell_type": "code",
   "execution_count": null,
   "id": "6120b796",
   "metadata": {},
   "outputs": [],
   "source": [
    "first_number = float(input())\n",
    "second_number = float(input())\n",
    "print(f\"{first_number} * {second_number} = {first_name * last_name}\")"
   ]
  },
  {
   "cell_type": "code",
   "execution_count": null,
   "id": "0a4d56af",
   "metadata": {},
   "outputs": [],
   "source": [
    "# defining function:\n",
    "def multiplier(factor1:float, factor2:float) -> float:\n",
    "    return f'{factor1} * {factor2} = {factor1 * factor2}'\n",
    "\n",
    "# calling function:\n",
    "multiplier(float(input()), float(input()))"
   ]
  },
  {
   "cell_type": "markdown",
   "id": "a0bafd76",
   "metadata": {},
   "source": [
    "## __Introduce yourself!__ 👋"
   ]
  },
  {
   "cell_type": "code",
   "execution_count": null,
   "id": "d72792ab",
   "metadata": {},
   "outputs": [],
   "source": [
    "valid = True\n",
    "\n",
    "name:str = input(\"name: \")\n",
    "age:int = input(\"age: \")\n",
    "birth_place:str = input(\"birth_place: \")\n",
    "\n",
    "if not name.isalpha():\n",
    "    print(\"You have to enter your name (letters only)!\")\n",
    "    valid = False\n",
    "if not age.isdigit():\n",
    "    print(\"You have to enter a number (digits only)!\")\n",
    "    valid = False\n",
    "if not birth_place.isalpha():\n",
    "    print(\"You have to enter your birthplace (letters only)!\")\n",
    "    valid = False\n",
    "if valid:\n",
    "    print(f\"Hello, my name is {name} and I am {int(age)} years old. I was born in {birth_place}.\")"
   ]
  },
  {
   "cell_type": "markdown",
   "id": "c2725a9e",
   "metadata": {},
   "source": [
    "## __Multiple of 3__ ❓"
   ]
  },
  {
   "cell_type": "code",
   "execution_count": null,
   "id": "5ee0af4b",
   "metadata": {},
   "outputs": [],
   "source": [
    "MultOfThree = input(\"x: \")\n",
    "\n",
    "if not MultOfThree.isdigit():\n",
    "    print(f\"We need a Number, Dude! What do you mean by '{MultOfThree}'?\")\n",
    "\n",
    "else:\n",
    "    x = int(MultOfThree)\n",
    "\n",
    "    if x == 3:\n",
    "        print(f\"C'mon, Bro! That is literally {x} smh...\")\n",
    "\n",
    "    elif x % 3 == 0:\n",
    "        if 0 < x < 10:\n",
    "            print(f\"You should know that {x} is a multiple of 3...\")\n",
    "        else:\n",
    "            print(\"Yessir!\")\n",
    "\n",
    "    elif x % 3 != 0:\n",
    "        if 0 < x < 10:\n",
    "            print(f\"You should know that {x} is not a multiple of 3...\")\n",
    "        else:\n",
    "            print(\"Nah, dawg.\")"
   ]
  },
  {
   "cell_type": "markdown",
   "id": "21d75fb6",
   "metadata": {},
   "source": [
    "## __Find the largest number__ 📏"
   ]
  },
  {
   "cell_type": "code",
   "execution_count": null,
   "id": "1726f269",
   "metadata": {},
   "outputs": [],
   "source": [
    "list_with_numbers = [4,2,8,3,9,3,10,7,3,5000,34]\n",
    "largest = 0\n",
    "for number in list_with_numbers:\n",
    "    if number > largest:\n",
    "        largest = number\n",
    "print(largest)"
   ]
  },
  {
   "cell_type": "markdown",
   "id": "2231bce1",
   "metadata": {},
   "source": [
    "## __Converters__ 💱"
   ]
  },
  {
   "cell_type": "markdown",
   "id": "5a5b83e5",
   "metadata": {},
   "source": [
    "### __Convert Kg and Lbs__ ⚖️"
   ]
  },
  {
   "cell_type": "code",
   "execution_count": null,
   "id": "e182ef34",
   "metadata": {},
   "outputs": [],
   "source": [
    "weight = input(\"Weight: \")\n",
    "\n",
    "if not weight.isdigit():\n",
    "    print(\"Please, enter your Weight in Digits!\")\n",
    "\n",
    "else:\n",
    "    weight = float(weight)\n",
    "    unit = input(\"(L)bs or (K)g: \")\n",
    "\n",
    "    if unit.lower() in (\"l\", \"lbs\"):\n",
    "        weight /= 2.205\n",
    "        if weight == 1:\n",
    "            each_number = \"kilo\"\n",
    "        else:\n",
    "            each_number = \"kilos\"\n",
    "\n",
    "            if weight <= 1 or weight > 300:\n",
    "                warning = \"That seems unrealistic!\"\n",
    "            else:\n",
    "                warning = \"\"\n",
    "        print(f\"You weigh {round(weight, 2)} {each_number}. {warning}\")\n",
    "\n",
    "    elif unit.lower() in (\"k\", \"kg\"):\n",
    "        weight *= 2.205\n",
    "        if weight == 1:\n",
    "            each_number = \"pound\"\n",
    "        else:\n",
    "            each_number = \"pounds\"\n",
    "\n",
    "            if weight <= 2.205 or weight > 661.5:\n",
    "                warning = \"That seems unrealistic!\"\n",
    "            else:\n",
    "                warning = \"\"\n",
    "        print(f\"You weigh {round(weight, 2)} {each_number}. {warning}\")\n",
    "    else:\n",
    "        print(\"Please choose Lbs or Kg.\")"
   ]
  },
  {
   "cell_type": "markdown",
   "id": "48f25078",
   "metadata": {},
   "source": [
    "### __Phone Number to words__ 🔢 → 🗣️"
   ]
  },
  {
   "cell_type": "code",
   "execution_count": null,
   "id": "3d635c80",
   "metadata": {},
   "outputs": [],
   "source": [
    "number_dict = {\n",
    "\"1\":\"one\",\n",
    "\"2\":\"two\",\n",
    "\"3\":\"three\",\n",
    "\"4\":\"four\",\n",
    "\"5\":\"five\",\n",
    "\"6\":\"six\",\n",
    "\"7\":\"seven\",\n",
    "\"8\":\"eight\",\n",
    "\"9\":\"nine\",\n",
    "\"0\":\"zero\"\n",
    "}\n",
    "\n",
    "phone = input(\"Phone: \")\n",
    "output = \"\"\n",
    "for digit in phone:\n",
    "        output += number_dict.get(digit, \"*\") + \" \"\n",
    "print(output)"
   ]
  },
  {
   "cell_type": "markdown",
   "id": "37ea4c09",
   "metadata": {},
   "source": [
    "### __Emoji converter__  :) → 🙂"
   ]
  },
  {
   "cell_type": "code",
   "execution_count": null,
   "id": "4b526f85",
   "metadata": {},
   "outputs": [],
   "source": [
    "message = input(\">\")\n",
    "words = message.split(' ')\n",
    "emojis = {\n",
    "\":)\":\"🙂\",\n",
    "\":(\":\"🙁\",\n",
    "}\n",
    "output = \"\"\n",
    "for word in words:\n",
    "    output += emojis.get(word, word) + \" \"\n",
    "print(output)"
   ]
  },
  {
   "cell_type": "code",
   "execution_count": null,
   "id": "219be3ef",
   "metadata": {},
   "outputs": [],
   "source": [
    "def emoji_converter(message):\n",
    "    words = message.split(' ')\n",
    "    emojis = {\n",
    "    \"_:)\":\"😅\",\n",
    "    }\n",
    "    output = \"\"\n",
    "    for word in words:\n",
    "        output += emojis.get(word, word) + \" \"\n",
    "    return output\n",
    "\n",
    "message = input(\">\")\n",
    "print(emoji_converter(message))"
   ]
  },
  {
   "cell_type": "markdown",
   "id": "8201bca6",
   "metadata": {},
   "source": [
    "## __Car Game__ 🚗"
   ]
  },
  {
   "cell_type": "code",
   "execution_count": null,
   "id": "2a484dcf",
   "metadata": {},
   "outputs": [],
   "source": [
    "import random\n",
    "from IPython.display import Image, display\n",
    "\n",
    "death_count = 0\n",
    "speed = 0\n",
    "\n",
    "while True:\n",
    "    action = input(\"Type 'help' for commands! \")\n",
    "    cmd = action.lower()\n",
    "    if cmd == \"help\":\n",
    "        print(\"start - to start the car\")\n",
    "        print(\"stop - to stop the car\")\n",
    "        print(\"crash - to crash the car\")\n",
    "        print(\"quit - to exit\")\n",
    "\n",
    "    elif cmd == \"start\":\n",
    "        if speed > 0:\n",
    "            speed += 1\n",
    "            if speed == 4:\n",
    "                display(Image(r\"images/death_car.png\", width=300))\n",
    "                print(\"You crashed into a tree and died. Game over!\")\n",
    "                break\n",
    "            else:\n",
    "                print(\"Speeding up further\")\n",
    "        else:\n",
    "            speed += 1\n",
    "            display(Image(r\"images/driving_car.png\", width=300))\n",
    "            print(\"Car started...Speeding up!\")   \n",
    "\n",
    "    elif cmd == \"stop\":\n",
    "        if speed == 0:\n",
    "            print(\"Car already stopped.\")\n",
    "        else:\n",
    "            display(Image(r\"images/standing_car.png\", width=300))\n",
    "            print(\"Car stopped.\")\n",
    "            if speed > 2:\n",
    "                print(\"You barely hit the brakes in time!\")\n",
    "            speed = 0\n",
    "        \n",
    "    elif cmd == \"crash\":\n",
    "        if speed > 0:\n",
    "            if random.random() < 0.1:\n",
    "                display(Image(r\"images/death_car.png\", width=300))\n",
    "                print(\"You crashed into a tree and died. Game over!\")\n",
    "                break\n",
    "            else:\n",
    "                death_count += 2 if speed > 1 else 1\n",
    "                each_number = \"Person\" if death_count == 1 else \"People\"\n",
    "                display(Image(r\"images/crash_car.png\", width=300))\n",
    "                print(f\"Car hit someone! You killed {death_count} {each_number}!\")\n",
    "        else:\n",
    "            print(\"Impossible. Car is still standing, start the car first!\")\n",
    "\n",
    "    elif cmd == \"quit\":\n",
    "        guilt = \"\" if death_count > 0 else \" not\"\n",
    "        print(f\"Thanks for playing! You have{guilt} become a murderer today.\")\n",
    "        if guilt == \"\":\n",
    "            display(Image(r\"images/Skull.png\", width=300))\n",
    "        break\n",
    "\n",
    "    else:\n",
    "        print(\"Invalid action. Type 'help' to see actions!\")"
   ]
  },
  {
   "cell_type": "markdown",
   "id": "ba740097",
   "metadata": {},
   "source": [
    "### Car-Game with Classes (chat GPT)"
   ]
  },
  {
   "cell_type": "code",
   "execution_count": null,
   "id": "de07230d",
   "metadata": {},
   "outputs": [],
   "source": [
    "import random\n",
    "from IPython.display import Image, display\n",
    "\n",
    "IMG = {\n",
    "    \"drive\": r\"images/driving_car.png\",\n",
    "    \"stop\":  r\"images/standing_car.png\",\n",
    "    \"crash\": r\"images/crash_car.png\",\n",
    "    \"death\": r\"images/death_car.png\",\n",
    "    \"skull\": r\"images/Skull.png\",\n",
    "}\n",
    "\n",
    "class Game:\n",
    "    def __init__(self):\n",
    "        self.speed = 0\n",
    "        self.death_count = 0\n",
    "        self.rng = random.random\n",
    "\n",
    "    # commands\n",
    "    def help(self):\n",
    "        print(\"start - to start the car\")\n",
    "        print(\"stop  - to stop the car\")\n",
    "        print(\"crash - to crash the car\")\n",
    "        print(\"quit  - to exit\")\n",
    "        return True\n",
    "\n",
    "    def start(self):\n",
    "        if self.speed > 0:\n",
    "            self.speed += 1\n",
    "            if self.speed == 4:\n",
    "                display(Image(IMG[\"death\"], width=300))\n",
    "                print(\"You crashed into a tree and died. Game over!\")\n",
    "                return False\n",
    "            print(\"Speeding up further\")\n",
    "            return True\n",
    "        self.speed = 1\n",
    "        display(Image(IMG[\"drive\"], width=300))\n",
    "        print(\"Car started...Speeding up!\")\n",
    "        return True\n",
    "\n",
    "    def stop(self):\n",
    "        if self.speed == 0:\n",
    "            print(\"Car already stopped.\")\n",
    "            return True\n",
    "        display(Image(IMG[\"stop\"], width=300))\n",
    "        print(\"Car stopped.\")\n",
    "        if self.speed > 2:\n",
    "            print(\"You barely hit the brakes in time!\")\n",
    "        self.speed = 0\n",
    "        return True\n",
    "\n",
    "    def crash(self):\n",
    "        if self.speed == 0:\n",
    "            print(\"Impossible. Car is still standing, start the car first!\")\n",
    "            return True\n",
    "        if self.rng() < 0.10:\n",
    "            display(Image(IMG[\"death\"], width=300))\n",
    "            print(\"You crashed into a tree and died. Game over!\")\n",
    "            return False\n",
    "        self.death_count += 2 if self.speed > 1 else 1\n",
    "        noun = \"Person\" if self.death_count == 1 else \"People\"\n",
    "        display(Image(IMG[\"crash\"], width=300))\n",
    "        print(f\"Car hit someone! You killed {self.death_count} {noun}!\")\n",
    "        return True\n",
    "\n",
    "    def quit(self):\n",
    "        murderer = self.death_count > 0\n",
    "        print(f\"Thanks for playing! You have{' ' if murderer else ' not '}become a murderer today.\")\n",
    "        if murderer:\n",
    "            display(Image(IMG[\"skull\"], width=300))\n",
    "        return False\n",
    "\n",
    "def main():\n",
    "    game = Game()\n",
    "    actions = {\n",
    "        \"help\": game.help,\n",
    "        \"start\": game.start,\n",
    "        \"stop\": game.stop,\n",
    "        \"crash\": game.crash,\n",
    "        \"quit\": game.quit,\n",
    "    }\n",
    "\n",
    "    while True:\n",
    "        cmd = input(\"Type 'help' for commands! \").strip().lower()\n",
    "        func = actions.get(cmd)\n",
    "        if not func:\n",
    "            print(\"Invalid action. Type 'help' to see actions!\")\n",
    "            continue\n",
    "        if not func():\n",
    "            break\n",
    "\n",
    "if __name__ == \"__main__\":\n",
    "    main()"
   ]
  },
  {
   "cell_type": "markdown",
   "id": "042d7c72",
   "metadata": {},
   "source": [
    "## __For loop with *range()*__"
   ]
  },
  {
   "cell_type": "code",
   "execution_count": null,
   "id": "3c027e9c",
   "metadata": {},
   "outputs": [],
   "source": [
    "count = 0\n",
    "for num in range(1, 10):\n",
    "    if num % 2 == 0:\n",
    "        count += 1\n",
    "        print(num)\n",
    "print(f\"We have {count} even numbers\")"
   ]
  },
  {
   "cell_type": "markdown",
   "id": "e35cae45",
   "metadata": {},
   "source": [
    "## __L-Shape through nested loops__"
   ]
  },
  {
   "cell_type": "code",
   "execution_count": null,
   "id": "e002a15f",
   "metadata": {},
   "outputs": [],
   "source": [
    "number = [1, 1, 1, 1, 5]\n",
    "for x in number:\n",
    "    output = ''\n",
    "    for count in range(x):\n",
    "        output += \"x\"\n",
    "    print(output)"
   ]
  },
  {
   "cell_type": "markdown",
   "id": "8cfee08e",
   "metadata": {},
   "source": [
    "## __Remove Duplicates in a List__ (without set conversion)"
   ]
  },
  {
   "cell_type": "code",
   "execution_count": null,
   "id": "48905d4e",
   "metadata": {},
   "outputs": [],
   "source": [
    "list_with_numbers = [4,3,2,4,4,6,9,6,4,2]\n",
    "uniques = []\n",
    "for number in list_with_numbers:\n",
    "    if number not in uniques:\n",
    "        uniques.append(number)\n",
    "print(uniques)"
   ]
  },
  {
   "cell_type": "markdown",
   "id": "39f64f8f",
   "metadata": {},
   "source": [
    "## __Class Exercise__ "
   ]
  },
  {
   "cell_type": "code",
   "execution_count": null,
   "id": "a52b58b6",
   "metadata": {},
   "outputs": [],
   "source": [
    "class Person:\n",
    "    def __init__(self, name):\n",
    "        self.name = name\n",
    "        print(f'{self.name} was created')\n",
    "\n",
    "    def talk(self):\n",
    "        print(f\"{self.name}: 'Hi, I am {self.name}'\")\n",
    "\n",
    "person1 = Person(\"Peter\")\n",
    "person1.talk()\n",
    "\n",
    "person2 = Person(\"John\")\n",
    "person2.talk()"
   ]
  },
  {
   "cell_type": "markdown",
   "id": "2fa21d58",
   "metadata": {},
   "source": [
    "## __Dice Roll__ 🎲"
   ]
  },
  {
   "cell_type": "code",
   "execution_count": null,
   "id": "8018f339",
   "metadata": {},
   "outputs": [],
   "source": [
    "import random\n",
    "\n",
    "class Dice():\n",
    "    def roll(self):\n",
    "            attempt1 = random.randint(1,6)\n",
    "            attempt2 = random.randint(1,6)\n",
    "            return attempt1, attempt2\n",
    "\n",
    "dice = Dice()\n",
    "dice.roll()"
   ]
  },
  {
   "cell_type": "markdown",
   "id": "4c386467",
   "metadata": {},
   "source": [
    "## __Dice Roll Game__ 🎮"
   ]
  },
  {
   "cell_type": "code",
   "execution_count": null,
   "id": "eb8d5aa4",
   "metadata": {},
   "outputs": [],
   "source": [
    "import random\n",
    "\n",
    "while True:\n",
    "    first_name = input(\"Roll the dice? (y/n): \").lower()\n",
    "    if first_name == \"y\":\n",
    "        roll1 = random.randint(1,6)\n",
    "        roll2 = random.randint(1,6); print(f'You got {roll1} and {roll2}!')\n",
    "        opponent_roll1 = random.randint(1,6)\n",
    "        opponent_roll2 = random.randint(1,6); print(f'Your opponent got {opponent_roll1} and {opponent_roll2}!')\n",
    "        result = 'won' if roll1 + roll2 > opponent_roll1 + opponent_roll2 else 'lost'\n",
    "        print(f'You {result}!')\n",
    "    elif first_name == \"n\":\n",
    "        print(\"Thanks for playing!\")\n",
    "        break\n",
    "    else:\n",
    "        print(f\"'{first_name}': Invalid choice!\")"
   ]
  },
  {
   "cell_type": "markdown",
   "id": "6f40b861",
   "metadata": {},
   "source": [
    "## __Number Guessing Game__ 🤔"
   ]
  },
  {
   "cell_type": "code",
   "execution_count": null,
   "id": "ab09b8f9",
   "metadata": {},
   "outputs": [],
   "source": [
    "import random\n",
    "number = random.randint(1,100)\n",
    "while True:\n",
    "    try:\n",
    "        Guess = int(input(\"Guess the number between 1 and 100: \"))\n",
    "        if Guess == number:\n",
    "            print(\"Correct!\")\n",
    "            break\n",
    "        elif Guess > number:\n",
    "            print(\"Too high!\")\n",
    "        elif Guess < number:\n",
    "            print(\"Too low!\")\n",
    "    except ValueError:\n",
    "        print(\"Please enter a valid number\")\n",
    "    "
   ]
  },
  {
   "cell_type": "markdown",
   "id": "d541f983",
   "metadata": {},
   "source": [
    "## __Rock, Paper, Scissors__ 🪨📄✂️"
   ]
  },
  {
   "cell_type": "code",
   "execution_count": null,
   "id": "2944c24f",
   "metadata": {},
   "outputs": [],
   "source": [
    "import random\n",
    "options = (\"rock\", \"paper\", \"scissors\")\n",
    "commands = {\n",
    "    \"r\":options[0],\n",
    "    \"p\":options[1],\n",
    "    \"s\":options[2]\n",
    "}\n",
    "end = False\n",
    "\n",
    "def play_again():\n",
    "    global end\n",
    "    while True:\n",
    "        play_again = input(\"Continue? (y/n): \").lower()\n",
    "        if play_again == \"n\":\n",
    "            end = True\n",
    "            break\n",
    "        elif play_again == \"y\":\n",
    "            break\n",
    "        else:\n",
    "            continue\n",
    "\n",
    "while end is False:\n",
    "    try:\n",
    "        opponent_choice = random.choice(options)\n",
    "        player_choice = commands[input(\"Rock, paper, or scissors? (r/p/s): \").lower()]\n",
    "        print(f\"You chose {player_choice}\\nComputer chose {opponent_choice}\")\n",
    "        if player_choice == opponent_choice:\n",
    "            print(\"Stalemate!\")\n",
    "        elif (player_choice == \"rock\" and opponent_choice == \"scissors\" or\n",
    "            player_choice == \"paper\" and opponent_choice == \"rock\" or\n",
    "            player_choice == \"scissors\" and opponent_choice == \"paper\"):\n",
    "            print(\"You win!\")\n",
    "        else:\n",
    "            print(\"You lose!\")\n",
    "        \n",
    "        play_again()\n",
    "\n",
    "    except KeyError or ValueError:\n",
    "        print(\"Invalid choice!\")\n",
    "        continue"
   ]
  },
  {
   "cell_type": "markdown",
   "id": "99e27c39",
   "metadata": {},
   "source": [
    "## __Monster Game__ 👹 [Prototype]"
   ]
  },
  {
   "cell_type": "code",
   "execution_count": null,
   "id": "83977e74",
   "metadata": {
    "tags": [
     "Game"
    ]
   },
   "outputs": [],
   "source": [
    "actions = {\n",
    "    'quit':'quit the Game',\n",
    "    'attack':'attack a Monster',\n",
    "    'regain energy':'replenish your Energy'\n",
    "}\n",
    "\n",
    "class Game():\n",
    "    def __init__(self):\n",
    "        self.running = True\n",
    "        self.round = 0\n",
    "        self.pass_action = False\n",
    "    def run(self):\n",
    "        print('Game has started')\n",
    "        while self.running:\n",
    "            if not self.pass_action:\n",
    "                self.round += 1\n",
    "                print('___________________________________________________________________________')\n",
    "                print(f'Round {self.round}')\n",
    "                print(f'Player: {vars(player)}')\n",
    "                print(f'Monster: {vars(monster)}')\n",
    "                self.action = input().lower()\n",
    "                if self.action == 'quit' or not player.lives:\n",
    "                    print('Game has ended.') \n",
    "                    print(f'Monsters killed: {player.kill_count}\\nSurvived: {player.lives}\\nRounds: {self.round}')\n",
    "                    self.running = False\n",
    "                elif self.action == 'help':\n",
    "                    command_description = 0\n",
    "                    for command in actions.keys():\n",
    "                        print(f\"Command '{command}' will {list(actions.values())[command_description]}\")\n",
    "                        command_description += 1\n",
    "                    self.pass_action = True\n",
    "                elif self.action == 'attack':\n",
    "                    player.attack()\n",
    "                    monster.attack()\n",
    "                elif self.action == 'regain energy':\n",
    "                    player.regain_energy()\n",
    "                    monster.attack()\n",
    "                else:\n",
    "                    self.pass_action = True\n",
    "                    print(\"Invalid action. Type 'help' for more info!\")\n",
    "            else:\n",
    "                self.pass_action = False\n",
    "                self.round -= 1\n",
    "                pass\n",
    "\n",
    "class Player():\n",
    "    def __init__(self, health, damage, energy, kill_count=0, lives=True, energy_potion=True):\n",
    "        self.health = health\n",
    "        self.damage = damage\n",
    "        self.energy = energy\n",
    "        self.kill_count = kill_count\n",
    "        self.lives = lives\n",
    "        self.energy_potion = energy_potion\n",
    "        \n",
    "    def attack(self):\n",
    "        if self.energy >= 20:\n",
    "            monster.health -= self.damage\n",
    "            self.energy -= 20\n",
    "            if monster.health > 0:\n",
    "                print(f'Monster has received {self.damage} damage!')\n",
    "            elif monster.health <= 0:\n",
    "                monster.health = 0\n",
    "                if not monster.dead:\n",
    "                    monster.dead = True\n",
    "                    self.kill_count += 1\n",
    "                    print('Monster has died')\n",
    "                else:\n",
    "                    print('Monster already dead!')\n",
    "                    self.energy += 20\n",
    "        elif self.energy < 20:\n",
    "            print('Not enough energy!')\n",
    "            \n",
    "    def regain_energy(self):\n",
    "        if self.energy_potion:\n",
    "            self.energy = 100\n",
    "            self.energy_potion = False\n",
    "            print('Energy was replenished')\n",
    "        else:\n",
    "            print('Energy potion already used')\n",
    "\n",
    "class Person():\n",
    "    def __init__(self, health, damage, energy, dead=False):\n",
    "        self.health = health\n",
    "        self.damage = damage\n",
    "        self.energy = energy\n",
    "        self.dead = dead\n",
    "    \n",
    "    def attack(self):\n",
    "        if not self.dead:\n",
    "            player.health -= self.damage\n",
    "            print(f'The Monster has attacked and dealt {self.damage} damage to the Player!')\n",
    "        else:\n",
    "            pass\n",
    "        \n",
    "player = Player(health=100,damage=20,energy=100)\n",
    "monster = Person(30, 20, 30)\n",
    "game = Game()\n",
    "game.run()"
   ]
  },
  {
   "cell_type": "markdown",
   "id": "8320bef3",
   "metadata": {},
   "source": [
    "## __Quick Math__ ⚡"
   ]
  },
  {
   "cell_type": "code",
   "execution_count": null,
   "id": "f43a0eec",
   "metadata": {},
   "outputs": [],
   "source": [
    "from time import sleep,perf_counter\n",
    "from random import *\n",
    "\n",
    "operation = {\n",
    "    'divided by':'/',\n",
    "    'multiplied with':'*',\n",
    "    'plus':'+',\n",
    "    'minus':'-'\n",
    "}\n",
    "chosen_operation = choice(list(operation.items()))\n",
    "variable = randint(0,100)\n",
    "y = choice((2,4,6,8,10))\n",
    "\n",
    "print(f'What is {variable} {chosen_operation[0]} {y}? (rounded to 2 decimals)')\n",
    "result = round(float(eval(f'{variable}{chosen_operation[1]}{y}')),2)\n",
    "try:\n",
    "    sleep(0.01)\n",
    "    start = perf_counter()\n",
    "    guess = float(input('Enter number: '))\n",
    "    end = perf_counter()\n",
    "    elapsed = end - start\n",
    "    print(f'Your guess ({guess}) is...')\n",
    "    for numb in range(5,0,-1):\n",
    "        print(f'[Countdown] {numb}')\n",
    "        sleep(1)\n",
    "    if guess == result:\n",
    "        print('...correct!')\n",
    "    else:\n",
    "        print(f'...incorrect! Correct is {result}')\n",
    "    print(f'You thought for {elapsed:.2f} seconds!') # {variable:.2f} rounds to 2 decimals\n",
    "    if elapsed > 20:\n",
    "        print('Took you long enough...')\n",
    "except ValueError:\n",
    "    print(f'You have to enter a number!\\nResult would have been {result}...')"
   ]
  }
 ],
 "metadata": {
  "kernelspec": {
   "display_name": ".venv",
   "language": "python",
   "name": "python3"
  },
  "language_info": {
   "codemirror_mode": {
    "name": "ipython",
    "version": 3
   },
   "file_extension": ".py",
   "mimetype": "text/x-python",
   "name": "python",
   "nbconvert_exporter": "python",
   "pygments_lexer": "ipython3",
   "version": "3.12.3"
  }
 },
 "nbformat": 4,
 "nbformat_minor": 5
}
