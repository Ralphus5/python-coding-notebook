{
 "cells": [
  {
   "cell_type": "markdown",
   "id": "ebafde14",
   "metadata": {},
   "source": [
    "\n",
    "# <span style=\"color:darkorchid\">**$$Jupyter Notebook 📓$$**</span>\n"
   ]
  },
  {
   "cell_type": "markdown",
   "id": "bbd77f78",
   "metadata": {},
   "source": [
    "> ## This is a Jupyter Notebook\n",
    "+ For Python:\n",
    "    - It acts like python interactive mode, which has slight differences to executing a python file normally. For example: functions print results automatically without having to use *print()*\n",
    "    - The code (variables, classes, functions) of all other cells get stored by the kernel within a session! When it gets restarted, all objects are forgotten. In other words: Variables can be accessed in all other cells, only after its cell has been run in this session.\n",
    "        * Therefore, avoid naming variables like certain keywords like 'list' to shadow keywords/functons!\n",
    "    - Cell-Tags can influence what to show when exporting the Notebook\n",
    "+ For C++:\n",
    "    - You cannot define a function after a statement within one cell"
   ]
  },
  {
   "cell_type": "markdown",
   "id": "e4d9a967",
   "metadata": {},
   "source": [
    "> ## Bash Commands"
   ]
  },
  {
   "cell_type": "code",
   "execution_count": null,
   "id": "a5bda66c",
   "metadata": {},
   "outputs": [],
   "source": [
    "# You can run shell commands by prefixing them with '!'\n",
    "!echo Hello World\n",
    "\n",
    "# You can use '?' to get help on any object.\n",
    "d = 5\n",
    "d?"
   ]
  },
  {
   "cell_type": "markdown",
   "id": "aac178b0",
   "metadata": {},
   "source": [
    "> ## Markdown Cell Formatting"
   ]
  },
  {
   "cell_type": "markdown",
   "id": "5642ad0a",
   "metadata": {},
   "source": [
    "\\> creates a blockquote <br>\n",
    "--- this will create a horizontal line\\\n",
    "\\* bullet point\\\n",
    "\\- bullet point\\\n",
    "\\+ bullet point\\\n",
    "\\# title  \n",
    "\\#\\# subtitle  \n",
    "\\#\\#\\# smaller subtitle  \n",
    "\\* tab \\* sub bullet point  \n",
    "1. 2. 3. to enumerate"
   ]
  },
  {
   "cell_type": "markdown",
   "id": "32cf2c1e",
   "metadata": {},
   "source": [
    "---\n",
    "# <div style=\"margin-left:480px\">__<span style=\"color:khaki\">Line Magics 🪄</span>__</div>"
   ]
  },
  {
   "cell_type": "code",
   "execution_count": null,
   "id": "45f27d2a",
   "metadata": {},
   "outputs": [],
   "source": [
    "%lsmagic\n",
    "# Lists all available magics."
   ]
  },
  {
   "cell_type": "code",
   "execution_count": null,
   "id": "5a7d3dcf",
   "metadata": {},
   "outputs": [],
   "source": [
    "%%html\n",
    "<b>Hello from HTML</b>"
   ]
  },
  {
   "cell_type": "code",
   "execution_count": null,
   "id": "0c962ecd",
   "metadata": {},
   "outputs": [],
   "source": [
    "# use %timeit to know how long a single line of code takes to execute (on average)\n",
    "# the unit of time is in seconds (s), milliseconds (ms), microseconds (µs), or nanoseconds (ns)\n",
    "%timeit sum(range(100))\n",
    "print(\"Hello, World!\")"
   ]
  },
  {
   "cell_type": "code",
   "execution_count": null,
   "id": "3d295a54",
   "metadata": {},
   "outputs": [],
   "source": [
    "# use %time to know how long a whole cell takes to execute\n",
    "print(\"This is a test.\"), print(\"This is only a test.\")\n",
    "%time"
   ]
  },
  {
   "cell_type": "code",
   "execution_count": null,
   "id": "26f5f316",
   "metadata": {},
   "outputs": [],
   "source": [
    "%run Python/exercises/exercise_3_2.py\n",
    "# This runs the file and shows its output here in the notebook:"
   ]
  },
  {
   "cell_type": "markdown",
   "id": "b2db5636",
   "metadata": {},
   "source": [
    "---\n",
    "# <div style=\"margin-left:520px\">__<span style=\"color:azure\">Utilities 🔧</span>__</div>"
   ]
  },
  {
   "cell_type": "code",
   "execution_count": null,
   "id": "47da5d6b",
   "metadata": {},
   "outputs": [],
   "source": [
    "# you can add colors to your terminal output\n",
    "from IPython.display import display, HTML\n",
    "display(HTML('<span style=\"color: blue;\">This text is blue</span>'))"
   ]
  },
  {
   "cell_type": "code",
   "execution_count": null,
   "id": "2146b0d6",
   "metadata": {},
   "outputs": [],
   "source": [
    "# You can color your text in markdown cells too:\n",
    "# <span style=\"color:blue\">This text is blue</span>"
   ]
  },
  {
   "cell_type": "markdown",
   "id": "cb82db2f",
   "metadata": {},
   "source": [
    "> to edit the formating of text in markdown cells, you can use HTML tags.  \n",
    "> You can also use double dollar signs for centered equations: $$ E = mc^2 $$  \n",
    "> or single dollar signs for inline equations: $ E = mc^2 $  \n",
    "> You can also use underscores and asterisks for bold and italics: __bold__, **bold**, _italic_, *italic*  \n",
    "> You can also use backticks for code: `code`  \n",
    "> this can also be done for headings: # `Heading 1`, ## `Heading 2`, ### `Heading 3`  "
   ]
  },
  {
   "cell_type": "markdown",
   "id": "506b29ed",
   "metadata": {},
   "source": [
    "---\n",
    "# <div style=\"margin-left:410px\">__<span style=\"color:darkgrey\">Keyboard Shortcuts 🔗</span>__</div>"
   ]
  },
  {
   "cell_type": "markdown",
   "id": "f0b46421",
   "metadata": {},
   "source": [
    "- go back one step:\n",
    "ctrl + z\n",
    "- delete a line:\n",
    "ctrl + x\n",
    "- copy a line:\n",
    "toggle line, then press shift + alt + up/down\n",
    "- mark:\n",
    "hold shift + up/down/right/left\n",
    "- move lines:\n",
    "alt + up/down\n",
    "- scroll:\n",
    "ctrl + up/down/right/left\n",
    "- write in multiple lines at once:\n",
    "ctrl + alt + up/down\n",
    "- edit multiple instances of a word at once:\n",
    "select word, then:\n",
    "ctrl + d\n",
    "- save:\n",
    "ctrl + s\n",
    "- run python file:\n",
    "ctrl + p\n",
    "- open emoji tab:\n",
    "cmd + ."
   ]
  }
 ],
 "metadata": {
  "kernelspec": {
   "display_name": ".venv",
   "language": "python",
   "name": "python3"
  },
  "language_info": {
   "codemirror_mode": {
    "name": "ipython",
    "version": 3
   },
   "file_extension": ".py",
   "mimetype": "text/x-python",
   "name": "python",
   "nbconvert_exporter": "python",
   "pygments_lexer": "ipython3",
   "version": "3.12.3"
  }
 },
 "nbformat": 4,
 "nbformat_minor": 5
}
