{
 "cells": [
  {
   "cell_type": "markdown",
   "id": "ebc5fb7e",
   "metadata": {},
   "source": [
    "# <div style=\"margin-left:550px\"><span style=\"color:CornflowerBlue; font-size:70px\">__C++__</span></div>"
   ]
  },
  {
   "cell_type": "markdown",
   "id": "ec1fc167",
   "metadata": {},
   "source": [
    "<div style=\"margin-left:510px\"><img src=\"https://upload.wikimedia.org/wikipedia/commons/1/18/ISO_C%2B%2B_Logo.svg\" alt=\"cpp\" width=\"230\" height=\"230\"></div>"
   ]
  },
  {
   "cell_type": "markdown",
   "id": "7234e054",
   "metadata": {},
   "source": [
    "---\n",
    "# <div style=\"margin-left:555px\">__<span style=\"color:lightblue\">Basics</span>__</div>"
   ]
  },
  {
   "cell_type": "markdown",
   "id": "6d546043",
   "metadata": {},
   "source": [
    "<a href=\"https://www.w3schools.com/cpp/cpp_ref_math.asp\" target=\"_blank\">\n",
    "  <button>C++ Libraries</button>\n",
    "</a>"
   ]
  },
  {
   "cell_type": "code",
   "execution_count": null,
   "id": "09be963e",
   "metadata": {
    "vscode": {
     "languageId": "cpp"
    }
   },
   "outputs": [],
   "source": [
    "#include <iostream>\n",
    "using namespace std;\n",
    "\n",
    "//main() {\n",
    "cout << \"Hello, World!\" << endl;\n",
    "cout << \"This is C++\";\n",
    "return 0;\n",
    "//       }"
   ]
  },
  {
   "cell_type": "markdown",
   "id": "6c99d12b",
   "metadata": {},
   "source": [
    "> Unlike Python, C++ is statically-typed, so when defining a variable, you have to specify the type and after that its type cannot be changed"
   ]
  },
  {
   "cell_type": "code",
   "execution_count": null,
   "id": "92307fd3",
   "metadata": {
    "vscode": {
     "languageId": "cpp"
    }
   },
   "outputs": [],
   "source": [
    "#include <iostream>\n",
    "#include <cmath>        // look up functions of the library online\n",
    "using namespace std;\n",
    "\n",
    "double result = floor(1.2);\n",
    "double res = pow(2,3);\n",
    "cout << result << endl;\n",
    "cout << res << endl;\n",
    "return 0;"
   ]
  },
  {
   "cell_type": "code",
   "execution_count": 7,
   "id": "12dce7b5",
   "metadata": {
    "vscode": {
     "languageId": "cpp"
    }
   },
   "outputs": [
    {
     "name": "stdout",
     "output_type": "stream",
     "text": [
      "Enter radius: 50.24"
     ]
    }
   ],
   "source": [
    "#include <iostream>\n",
    "#include <cmath>\n",
    "using namespace std;\n",
    "\n",
    "cout << \"Enter radius: \";\n",
    "double radius;\n",
    "cin >> radius;\n",
    "const double pi = 3.14;\n",
    "double area = pi * pow(radius,2); // pow takes 2 as exponent for radius\n",
    "cout << area;\n",
    "return 0;"
   ]
  },
  {
   "cell_type": "markdown",
   "id": "6e9415ff",
   "metadata": {},
   "source": [
    "> Multiline Comments"
   ]
  },
  {
   "cell_type": "code",
   "execution_count": 8,
   "id": "e753109b",
   "metadata": {
    "vscode": {
     "languageId": "cpp"
    }
   },
   "outputs": [],
   "source": [
    "/*\n",
    "f\n",
    "*/"
   ]
  }
 ],
 "metadata": {
  "kernelspec": {
   "display_name": "C++17",
   "language": "C++17",
   "name": "xcpp17"
  },
  "language_info": {
   "codemirror_mode": "text/x-c++src",
   "file_extension": ".cpp",
   "mimetype": "text/x-c++src",
   "name": "C++17",
   "version": "17"
  }
 },
 "nbformat": 4,
 "nbformat_minor": 5
}
