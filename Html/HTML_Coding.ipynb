{
 "cells": [
  {
   "cell_type": "markdown",
   "id": "5f3407ab",
   "metadata": {
    "vscode": {
     "languageId": "plaintext"
    }
   },
   "source": [
    "[Youtube](https://www.youtube.com/)"
   ]
  },
  {
   "cell_type": "markdown",
   "id": "9863986e",
   "metadata": {},
   "source": [
    "<a href=\"https://www.youtube.com/\" target=\"_blank\">\n",
    "  <button>YouTube</button>\n",
    "</a>"
   ]
  }
 ],
 "metadata": {
  "language_info": {
   "name": "python"
  }
 },
 "nbformat": 4,
 "nbformat_minor": 5
}
